{
 "cells": [
  {
   "cell_type": "markdown",
   "metadata": {},
   "source": [
    "## Calc de gradient vector for a cavity. \n",
    "\n",
    "# Ahora voy a probar con un desplazamiento negativo y otro positivo, p/ calcular la derivada con estos 2 puntos y así obtener la derivada p/ el punto central (la struct average)"
   ]
  },
  {
   "cell_type": "code",
   "execution_count": 3,
   "metadata": {
    "collapsed": false
   },
   "outputs": [
    {
     "name": "stderr",
     "output_type": "stream",
     "text": [
      "WARNING: New definition \n",
      "    +(AbstractArray{T<:Any, 2}, WoodburyMatrices.SymWoodbury) at /home/german/.julia/v0.4/WoodburyMatrices/src/SymWoodburyMatrices.jl:106\n",
      "is ambiguous with: \n",
      "    +(DataArrays.DataArray, AbstractArray) at /home/german/.julia/v0.4/DataArrays/src/operators.jl:276.\n",
      "To fix, define \n",
      "    +(DataArrays.DataArray{T<:Any, 2}, WoodburyMatrices.SymWoodbury)\n",
      "before the new definition.\n",
      "WARNING: New definition \n",
      "    +(AbstractArray{T<:Any, 2}, WoodburyMatrices.SymWoodbury) at /home/german/.julia/v0.4/WoodburyMatrices/src/SymWoodburyMatrices.jl:106\n",
      "is ambiguous with: \n",
      "    +(DataArrays.AbstractDataArray, AbstractArray) at /home/german/.julia/v0.4/DataArrays/src/operators.jl:300.\n",
      "To fix, define \n",
      "    +(DataArrays.AbstractDataArray{T<:Any, 2}, WoodburyMatrices.SymWoodbury)\n",
      "before the new definition.\n"
     ]
    }
   ],
   "source": [
    "using DataFrames\n",
    "using Chemfiles\n",
    "using Gadfly\n",
    "using Cairo\n",
    "using Distributions\n",
    "using MIToS.PDB\n",
    "set_default_plot_size(28cm, 10cm)"
   ]
  },
  {
   "cell_type": "code",
   "execution_count": 17,
   "metadata": {
    "collapsed": false
   },
   "outputs": [
    {
     "data": {
      "text/plain": [
       "meta_var (generic function with 1 method)"
      ]
     },
     "execution_count": 17,
     "metadata": {},
     "output_type": "execute_result"
    }
   ],
   "source": [
    "function meta_var(s::AbstractString,v::Any)\n",
    "         s=symbol(s) \n",
    "         @eval (($s) = ($v))\n",
    "end"
   ]
  },
  {
   "cell_type": "code",
   "execution_count": 18,
   "metadata": {
    "collapsed": false
   },
   "outputs": [
    {
     "data": {
      "text/plain": [
       "tognm (generic function with 1 method)"
      ]
     },
     "execution_count": 18,
     "metadata": {},
     "output_type": "execute_result"
    }
   ],
   "source": [
    "function tognm(vtor_anm)\n",
    "    vtor_gnm = Array{Float64}(convert(Int64, length(vtor_anm)/3));\n",
    "    vtor_anm =  vtor_anm.^2\n",
    "    for i=1:convert(Int64, length(vtor_anm)/3)\n",
    "        vtor_gnm[i] = sqrt(vtor_anm[i*3-2] + vtor_anm[i*3-1] + vtor_anm[i*3])\n",
    "    end\n",
    "    return vtor_gnm\n",
    "end"
   ]
  },
  {
   "cell_type": "code",
   "execution_count": 19,
   "metadata": {
    "collapsed": false
   },
   "outputs": [
    {
     "data": {
      "text/plain": [
       "read_ptraj_modes (generic function with 1 method)"
      ]
     },
     "execution_count": 19,
     "metadata": {},
     "output_type": "execute_result"
    }
   ],
   "source": [
    "function read_ptraj_modes(file, modes_elements)    \n",
    "    modes_file=open(file, \"r\")\n",
    "    modes_text = readdlm(modes_file, skipstart=0, skipblanks=true, \n",
    "    ignore_invalid_chars=true, comments=true, comment_char='\\*')\n",
    "    close(modes_file)\n",
    "\n",
    "    nmodes = modes_text[1, 5]\n",
    "    ncoords = convert(Int64, modes_elements)\n",
    "    lines = ceil(Int64, ncoords/7)\n",
    "    rest = convert(Int64, ncoords % 7)\n",
    "    \n",
    "    eval=Array{Float64}(nmodes);\n",
    "    mode = Array{Float64}(ncoords, nmodes);\n",
    "    temp1=Array{Float64}(ncoords, 1);\n",
    "    temp2 = Array{Float64}(ncoords+(7-rest));\n",
    "\n",
    "    j=lines + 1 + 2 # 1 p/ q lea la prox linea 2 por el header\n",
    "\n",
    "    for i=1:nmodes\n",
    "        eval[i] = modes_text[j, 2]\n",
    "        temp = transpose(modes_text[(j+1):(lines+j), :])\n",
    "        temp2 = reshape(temp, ncoords+(7-rest))\n",
    "        for k=(rest+1):7\n",
    "            pop!(temp2)\n",
    "        end\n",
    "    mode[:, i] = temp2\n",
    "        j = j + lines + 1\n",
    "    end\n",
    "    \n",
    "    for i=1:nmodes\n",
    "        mode[: ,i] = mode[:, i] / norm(mode[:, i])\n",
    "    end\n",
    "    \n",
    "    return mode, eval\n",
    "end"
   ]
  },
  {
   "cell_type": "code",
   "execution_count": 20,
   "metadata": {
    "collapsed": false
   },
   "outputs": [
    {
     "data": {
      "text/plain": [
       "displaceAA (generic function with 1 method)"
      ]
     },
     "execution_count": 20,
     "metadata": {},
     "output_type": "execute_result"
    }
   ],
   "source": [
    "function displaceAA(mod_pdb, vector1, multiplier)\n",
    "  # Preparo variables\n",
    "   pdb = copy(mod_pdb)\n",
    "   struct_xyz = coordinatesmatrix(pdb)\n",
    "   new_struct_xyz = copy(struct_xyz)\n",
    "   natom = Array{Int64}(1)\n",
    "    vector = Array{Float64}(1, 3)\n",
    "   aa = length(pdb)\n",
    "   # Determino el nro de atomos de c/ aminoácido\n",
    "   for i=1:aa\n",
    "       push!(natom, length(pdb[i]))\n",
    "   end  \n",
    "   shift!(natom)\n",
    "   temp1 = Array{Int64}(natom[1],3)\n",
    "\n",
    "   # Adapto el vector p/ darle la misma forma q la matriz de coordenadas\n",
    "    for i=1:3:length(vector1)\n",
    "        if i== 1\n",
    "            vector = reshape(vector1[i:i+2], 1, 3)\n",
    "            continue\n",
    "        end\n",
    "        vector = vcat(vector, reshape(vector1[i:i+2], 1, 3))\n",
    "    end\n",
    "\n",
    "   for i=1:aa\n",
    "       if i == 1         \n",
    "           temp1 = repmat(vector[i, :], natom[i], 1)\n",
    "           continue\n",
    "       end  \n",
    "       temp2 = repmat(vector[i, :], natom[i], 1)\n",
    "       temp1 = vcat(temp1, temp2)\n",
    "   end  \n",
    "   sum_mat = temp1\n",
    "\n",
    "   # Listo, ahora puedo mover el pdb\n",
    "   new_struct_xyz  = struct_xyz + sum_mat .* multiplier\n",
    "   pdb = change_coordinates(pdb, new_struct_xyz);\n",
    "   return pdb\n",
    "end"
   ]
  },
  {
   "cell_type": "markdown",
   "metadata": {},
   "source": [
    "# Gradiente en base de modos de PCA"
   ]
  },
  {
   "cell_type": "markdown",
   "metadata": {},
   "source": [
    "### Preparo variables y leo archivos de pdb y modos."
   ]
  },
  {
   "cell_type": "code",
   "execution_count": null,
   "metadata": {
    "collapsed": false
   },
   "outputs": [],
   "source": [
    "# Preparo variables\n",
    "natom_res = Array{Int64}(1);\n",
    "# Leo el pdb\n",
    "pdb_name = \"mtn\"\n",
    "filename_pdb_file_original = string(\"/home/german/labo/16/hemo/cavities/newana_mode_gradient/bu/cut_avg_\", pdb_name, \".pdb\")\n",
    "mtn_pdb = read(filename_pdb_file_original, PDBFile, group=\"ATOM\");\n",
    "# Obtengo el número de átomos de c/ residuo\n",
    "for i=1:length(mtn_pdb)\n",
    "    push!(natom_res, length(mtn_pdb[i]))\n",
    "end\n",
    "shift!(natom_res)\n",
    "# Obtengo el nro de aa's\n",
    "aa = length(mtn_pdb)\n",
    "aa3 = aa * 3\n",
    "modo_sum = Array{Float64}(aa, 3);\n",
    "\n",
    "# Arrays p/ guardar volumenes de pockets\n",
    "vol_pocket_mtn_1 = Array{Float64}(aa3-6);\n",
    "vol_pocket_mtn_2 = Array{Float64}(aa3-6);\n",
    "vol_pocket_mtn_3 = Array{Float64}(aa3-6);\n",
    "\n",
    "# Leo los modos de PCA. Ya tienen cortados a los aminoácidos de los extremos.\n",
    "modes_mtn, evals_mtn = read_ptraj_modes(\"/home/german/labo/16/hemo/run/mtn/pca/modes_mtn\", aa3);\n",
    "\n",
    "# Template p/ pdbs de salida\n",
    "files_template = \"/home/german/labo/16/hemo/cavities/newana_mode_gradient/mtn/\"\n",
    "# Archivos de config de ANA\n",
    "conf_mtn_corto = \"/home/german/labo/16/hemo/cavities/newana_mode_gradient/bu/mtn_corto.cfg\"\n",
    "conf_mtn_portal = \"/home/german/labo/16/hemo/cavities/newana_mode_gradient/bu/mtn_portal.cfg\"\n",
    "conf_mtn_largo = \"/home/german/labo/16/hemo/cavities/newana_mode_gradient/bu/mtn_largo.cfg\""
   ]
  },
  {
   "cell_type": "markdown",
   "metadata": {},
   "source": [
    "### Desplazo la estructura original a lo largo de cada modo. Los modos son normalizados y luego multiplicados por -3 y 3; y así obtener distintos desplazamientos. Creando así 2 sets, c/u de 339 estructuras desplazadas (1 por c/ modo)"
   ]
  },
  {
   "cell_type": "code",
   "execution_count": null,
   "metadata": {
    "collapsed": false,
    "scrolled": false
   },
   "outputs": [],
   "source": [
    "constant = 1\n",
    "# Ahora tengo q mover la estructura a lo largo de los modos normales, pero esto requiere rearreglar \n",
    "# los modos p/ q tengan el mismo formato q las coordenadas de los atomos\n",
    "for magnitude in [-3 3]\n",
    "    if magnitude >= 0\n",
    "        displacement = string(\"d\", magnitude)\n",
    "    else\n",
    "        magnitude_ = magnitude * -1\n",
    "        displacement = string(\"d_\", magnitude_)\n",
    "    end\n",
    "    temp1_modo_sum = Array{Float64}(natom_res[1], 3)\n",
    "    for j=1:aa3-6\n",
    "        for i=1:aa\n",
    "            modo_sum[i, 1] = modes_mtn[i*3-2, j]\n",
    "            modo_sum[i, 2] = modes_mtn[i*3-1, j]\n",
    "            modo_sum[i, 3] = modes_mtn[i*3, j]\n",
    "        end\n",
    "# Ya tengo el modo en el formato adecuado, pero estos son p/ mover Calphas. Ahora tengo q \n",
    "# repetir sus filas p/ poder mover todos los atomos de c/ aminoacido.\n",
    "        for i=1:aa\n",
    "            if i == 1            \n",
    "                temp1_modo_sum = repmat(modo_sum[i, :], natom_res[i], 1)\n",
    "                continue\n",
    "            end\n",
    "            temp2_modo_sum = repmat(modo_sum[i, :], natom_res[i], 1)\n",
    "            temp1_modo_sum = vcat(temp1_modo_sum, temp2_modo_sum)\n",
    "        end\n",
    "modo_sum = copy(temp1_modo_sum)\n",
    "# Ajusto el desplazamiento q voy a hacer\n",
    "        factor = magnitude * constant \n",
    "# Modifico las coordenadas\n",
    "        mtn_atom_xyz = coordinatesmatrix(mtn_pdb)\n",
    "        new_mtn_atom_xyz = mtn_atom_xyz + modo_sum .* factor;\n",
    "# Obtengo un nuevo frame con las coordenadas modificadas\n",
    "        new_mtn_pdb = change_coordinates(mtn_pdb, new_mtn_atom_xyz)\n",
    "# Escribo el nuevo .pdb\n",
    "        pdb_mtn = string(files_template, displacement, \"/\", \"mod\", j, \"_\", displacement, \"_mtn.pdb\")\n",
    "        write(pdb_mtn, new_mtn_pdb, PDBFile)\n",
    "    end\n",
    "end"
   ]
  },
  {
   "cell_type": "markdown",
   "metadata": {},
   "source": [
    "### Ahora calculo los volumenes de los huecos corto, portal y largo p/ los 2 sets de 345 estructuras desplazadas. Y así junto 2 sets (1 por c/ magnitud de desplazamiento) de 3 vectores (1 por c/ hueco) de 345 elementos c/u (1 elemento -> 1 volumen de 1 hueco de 1 estructura desplazada en alguna de sus coordenadas x,y,z)\n",
    "### Luego le resto los volumenes originales de los huecos corto, portal y largo a c/u de los elementos de los 6 vectores y así obtengo 2 sets de 3 vectores gradiente en base de coordenadas cartesianas."
   ]
  },
  {
   "cell_type": "code",
   "execution_count": null,
   "metadata": {
    "collapsed": false
   },
   "outputs": [],
   "source": [
    "# Ahora calculo los vectores\n",
    "for magnitude in [-3; 3]\n",
    "    if magnitude >= 0\n",
    "        magnitude_ = magnitude\n",
    "        displacement = string(\"d\", magnitude)\n",
    "    else\n",
    "        magnitude_ = magnitude * -1\n",
    "        displacement = string(\"d_\", magnitude_)\n",
    "    end\n",
    "    # Meta?\n",
    "    global vec_gdte_corto = symbol(\"gdte_corto_\", displacement)\n",
    "    global vec_gdte_portal = symbol(\"gdte_portal_\", displacement)\n",
    "    global vec_gdte_largo = symbol(\"gdte_largo_\", displacement)\n",
    "    \n",
    "    out_gdte_corto = string(\"gdte_corto_\", magnitude)\n",
    "    out_gdte_portal = string(\"gdte_portal_\", magnitude)\n",
    "    out_gdte_largo = string(\"gdte_largo_\", magnitude)    \n",
    "    for j=1:aa3-6\n",
    "        pdb_mtn = string(files_template, displacement, \"/\", \"mod\", j, \"_\", displacement, \"_mtn.pdb\")\n",
    "    # Calculo el pocket        \n",
    "        vol_pocket_mtn_1[j] = parse(Float64, readall(`ANA $pdb_mtn -c $conf_mtn_corto`))\n",
    "        vol_pocket_mtn_2[j] = parse(Float64, readall(`ANA $pdb_mtn -c $conf_mtn_portal`))\n",
    "        vol_pocket_mtn_3[j] = parse(Float64, readall(`ANA $pdb_mtn -c $conf_mtn_largo`))\n",
    "    end\n",
    "\n",
    "    # Calculo el pocket original\n",
    "    pdb_mtn = \"/home/german/labo/16/hemo/cavities/newana_mode_gradient/bu/cut_avg_mtn.pdb\"    \n",
    "    orig_vol_pocket_mtn_1 = parse(Float64, readall(`ANA $pdb_mtn -c $conf_mtn_corto`))\n",
    "    orig_vol_pocket_mtn_2 = parse(Float64, readall(`ANA $pdb_mtn -c $conf_mtn_portal`))\n",
    "    orig_vol_pocket_mtn_3 = parse(Float64, readall(`ANA $pdb_mtn -c $conf_mtn_largo`))\n",
    "        \n",
    "    # Obtengo los vectores gradiente p/ c/ hueco # 1=corto; 2=portal; 3=largo\n",
    "    vec_pocket_mtn_1 = (vol_pocket_mtn_1 .- orig_vol_pocket_mtn_1)\n",
    "    vec_pocket_mtn_2 = (vol_pocket_mtn_2 .- orig_vol_pocket_mtn_2)\n",
    "    vec_pocket_mtn_3 = (vol_pocket_mtn_3 .- orig_vol_pocket_mtn_3)\n",
    "    # Los normalizo\n",
    "    vec_pocket_mtn_1 = vec_pocket_mtn_1 / norm(vec_pocket_mtn_1)\n",
    "    vec_pocket_mtn_2 = vec_pocket_mtn_2 / norm(vec_pocket_mtn_2)\n",
    "    vec_pocket_mtn_3 = vec_pocket_mtn_3 / norm(vec_pocket_mtn_3)\n",
    "    \n",
    "    # Los guardo\n",
    "    filename_out_gdte_corto = string(\"/home/german/labo/16/hemo/cavities/newana_mode_gradient/vtores/\", magnitude,\"_vec_pocket_mtn_corto\")\n",
    "    filename_out_gdte_portal = string(\"/home/german/labo/16/hemo/cavities/newana_mode_gradient/vtores/\", magnitude,\"_vec_pocket_mtn_portal\")\n",
    "    filename_out_gdte_largo = string(\"/home/german/labo/16/hemo/cavities/newana_mode_gradient/vtores/\", magnitude,\"_vec_pocket_mtn_largo\")    \n",
    "    #\n",
    "    df_gdte_corto = DataFrame(delta = vec_pocket_mtn_1)\n",
    "    df_gdte_portal = DataFrame(delta = vec_pocket_mtn_2)\n",
    "    df_gdte_largo = DataFrame(delta = vec_pocket_mtn_3)\n",
    "    #\n",
    "    writetable(filename_out_gdte_corto, df_gdte_corto)\n",
    "    writetable(filename_out_gdte_portal, df_gdte_portal)\n",
    "    writetable(filename_out_gdte_largo, df_gdte_largo);\n",
    "    \n",
    "    # Meta?\n",
    "    @eval ($vec_gdte_corto = $vec_pocket_mtn_1)\n",
    "    @eval ($vec_gdte_portal = $vec_pocket_mtn_2)\n",
    "    @eval ($vec_gdte_largo = $vec_pocket_mtn_3)            \n",
    "end"
   ]
  },
  {
   "cell_type": "markdown",
   "metadata": {},
   "source": [
    "### Ahora hago lo mismo, pero en vez de hacerlo entre [-3; 0] y [0; 3] lo voy a hacer entre [-3; 3]"
   ]
  },
  {
   "cell_type": "code",
   "execution_count": null,
   "metadata": {
    "collapsed": false
   },
   "outputs": [],
   "source": [
    "# Arrays p/ guardar volumenes de pockets\n",
    "vol_pocket_mtn_1_ = Array{Float64}(aa3-6);\n",
    "vol_pocket_mtn_2_ = Array{Float64}(aa3-6);\n",
    "vol_pocket_mtn_3_ = Array{Float64}(aa3-6);\n",
    "\n",
    "# Ahora calculo los vectores\n",
    "magnitude_ = -3\n",
    "magnitude = 3\n",
    "displacement_ = string(\"d_\", magnitude)\n",
    "displacement = string(\"d\", magnitude)\n",
    "ddisplacement = string(\"dd\", magnitude)\n",
    "# Meta?\n",
    "global vec_gdte_corto = symbol(\"gdte_corto_\", ddisplacement)\n",
    "global vec_gdte_portal = symbol(\"gdte_portal_\", ddisplacement)\n",
    "global vec_gdte_largo = symbol(\"gdte_largo_\", ddisplacement)\n",
    "    \n",
    "out_gdte_corto = string(\"gdte_corto_\", magnitude)\n",
    "out_gdte_portal = string(\"gdte_portal_\", magnitude)\n",
    "out_gdte_largo = string(\"gdte_largo_\", magnitude)   \n",
    "\n",
    "for j=1:aa3-6\n",
    "    pdb_mtn = string(files_template, displacement, \"/\", \"mod\", j, \"_\", displacement, \"_mtn.pdb\")\n",
    "# Calculo el pocket        \n",
    "    vol_pocket_mtn_1[j] = parse(Float64, readall(`ANA $pdb_mtn -c $conf_mtn_corto`))\n",
    "    vol_pocket_mtn_2[j] = parse(Float64, readall(`ANA $pdb_mtn -c $conf_mtn_portal`))\n",
    "    vol_pocket_mtn_3[j] = parse(Float64, readall(`ANA $pdb_mtn -c $conf_mtn_largo`))\n",
    "end\n",
    "for j=1:aa3-6\n",
    "    pdb_mtn = string(files_template, displacement_, \"/\", \"mod\", j, \"_\", displacement_, \"_mtn.pdb\")\n",
    "# Calculo el pocket        \n",
    "    vol_pocket_mtn_1_[j] = parse(Float64, readall(`ANA $pdb_mtn -c $conf_mtn_corto`))\n",
    "    vol_pocket_mtn_2_[j] = parse(Float64, readall(`ANA $pdb_mtn -c $conf_mtn_portal`))\n",
    "    vol_pocket_mtn_3_[j] = parse(Float64, readall(`ANA $pdb_mtn -c $conf_mtn_largo`))\n",
    "end\n",
    "     \n",
    "    # Obtengo los vectores gradiente p/ c/ hueco # 1=corto; 2=portal; 3=largo\n",
    "    vec_pocket_mtn_1 = (vol_pocket_mtn_1 - vol_pocket_mtn_1_)\n",
    "    vec_pocket_mtn_2 = (vol_pocket_mtn_2 - vol_pocket_mtn_2_)\n",
    "    vec_pocket_mtn_3 = (vol_pocket_mtn_3 - vol_pocket_mtn_3_)\n",
    "    # Los normalizo\n",
    "    vec_pocket_mtn_1 = vec_pocket_mtn_1 / norm(vec_pocket_mtn_1)\n",
    "    vec_pocket_mtn_2 = vec_pocket_mtn_2 / norm(vec_pocket_mtn_2)\n",
    "    vec_pocket_mtn_3 = vec_pocket_mtn_3 / norm(vec_pocket_mtn_3)\n",
    "    \n",
    "    # Los guardo\n",
    "    filename_out_gdte_corto = string(\"/home/german/labo/16/hemo/cavities/newana_mode_gradient/vtores/\", ddisplacement,\"_vec_pocket_mtn_corto\")\n",
    "    filename_out_gdte_portal = string(\"/home/german/labo/16/hemo/cavities/newana_mode_gradient/vtores/\", ddisplacement,\"_vec_pocket_mtn_portal\")\n",
    "    filename_out_gdte_largo = string(\"/home/german/labo/16/hemo/cavities/newana_mode_gradient/vtores/\", ddisplacement,\"_vec_pocket_mtn_largo\")    \n",
    "    #\n",
    "    df_gdte_corto = DataFrame(delta = vec_pocket_mtn_1)\n",
    "    df_gdte_portal = DataFrame(delta = vec_pocket_mtn_2)\n",
    "    df_gdte_largo = DataFrame(delta = vec_pocket_mtn_3)\n",
    "    #\n",
    "    writetable(filename_out_gdte_corto, df_gdte_corto)\n",
    "    writetable(filename_out_gdte_portal, df_gdte_portal)\n",
    "    writetable(filename_out_gdte_largo, df_gdte_largo);\n",
    "    \n",
    "    # Meta?\n",
    "    @eval ($vec_gdte_corto = $vec_pocket_mtn_1)\n",
    "    @eval ($vec_gdte_portal = $vec_pocket_mtn_2)\n",
    "    @eval ($vec_gdte_largo = $vec_pocket_mtn_3);      "
   ]
  },
  {
   "cell_type": "markdown",
   "metadata": {},
   "source": [
    "## Grafico los vectores. El eje 'x' es el nro de elemento y el 'y' el valor del elemento."
   ]
  },
  {
   "cell_type": "markdown",
   "metadata": {},
   "source": [
    "### Canal corto"
   ]
  },
  {
   "cell_type": "code",
   "execution_count": null,
   "metadata": {
    "collapsed": false
   },
   "outputs": [],
   "source": [
    "df_gdte_corto = DataFrame(delta = gdte_corto_d_3)\n",
    "pdf_gdte_corto = plot(df_gdte_corto,\n",
    "y=\"delta\",  \n",
    "Geom.bar(position=:dodge),\n",
    "Guide.Title(\"delta de vol de canal corto segun modo. Entre -3 y 0\"),\n",
    "Coord.Cartesian(xmin=1, xmax=400),\n",
    "Guide.xticks(ticks = collect(1:20:400), orientation=:horizontal))"
   ]
  },
  {
   "cell_type": "code",
   "execution_count": null,
   "metadata": {
    "collapsed": false
   },
   "outputs": [],
   "source": [
    "df_gdte_corto = DataFrame(delta = gdte_corto_d3)\n",
    "pdf_gdte_corto = plot(df_gdte_corto,\n",
    "y=\"delta\",  \n",
    "Geom.bar(position=:dodge), \n",
    "Guide.Title(\"delta de vol de canal corto segun modo. Entre 0 y 3\"),\n",
    "Coord.Cartesian(xmin=1, xmax=400),\n",
    "Guide.xticks(ticks = collect(1:20:400), orientation=:horizontal))"
   ]
  },
  {
   "cell_type": "code",
   "execution_count": null,
   "metadata": {
    "collapsed": false
   },
   "outputs": [],
   "source": [
    "df_gdte_corto = DataFrame(delta = gdte_corto_dd3)\n",
    "pdf_gdte_corto = plot(df_gdte_corto,\n",
    "y=\"delta\",  \n",
    "Geom.bar(position=:dodge), \n",
    "Guide.Title(\"delta de vol de canal corto segun modo. Entre -3 y 3\"),\n",
    "Coord.Cartesian(xmin=1, xmax=400),\n",
    "Guide.xticks(ticks = collect(1:20:400), orientation=:horizontal))"
   ]
  },
  {
   "cell_type": "markdown",
   "metadata": {},
   "source": [
    "### Comparo los vectores obtenidos entre [-3;0] [0;3] [-3;3]"
   ]
  },
  {
   "cell_type": "code",
   "execution_count": null,
   "metadata": {
    "collapsed": false
   },
   "outputs": [],
   "source": [
    "dot(gdte_corto_d3, gdte_corto_d_3) "
   ]
  },
  {
   "cell_type": "code",
   "execution_count": null,
   "metadata": {
    "collapsed": false
   },
   "outputs": [],
   "source": [
    "dot(gdte_corto_dd3, gdte_corto_d_3)"
   ]
  },
  {
   "cell_type": "code",
   "execution_count": null,
   "metadata": {
    "collapsed": false
   },
   "outputs": [],
   "source": [
    "dot(gdte_corto_d3, gdte_corto_dd3)"
   ]
  },
  {
   "cell_type": "markdown",
   "metadata": {},
   "source": [
    "### Canal portal"
   ]
  },
  {
   "cell_type": "code",
   "execution_count": null,
   "metadata": {
    "collapsed": false
   },
   "outputs": [],
   "source": [
    "df_gdte_portal = DataFrame(delta = gdte_portal_d_3)\n",
    "pdf_gdte_portal = plot(df_gdte_portal,\n",
    "y=\"delta\",  \n",
    "Geom.bar(position=:dodge), \n",
    "Guide.Title(\"delta de vol de canal portal segun modo. Entre -3 y 0\"),\n",
    "Coord.Cartesian(xmin=1, xmax=400),\n",
    "Guide.xticks(ticks = collect(1:20:400), orientation=:horizontal))"
   ]
  },
  {
   "cell_type": "code",
   "execution_count": null,
   "metadata": {
    "collapsed": false
   },
   "outputs": [],
   "source": [
    "df_gdte_portal = DataFrame(delta = gdte_portal_d3)\n",
    "pdf_gdte_portal = plot(df_gdte_portal,\n",
    "y=\"delta\",  \n",
    "Geom.bar(position=:dodge), \n",
    "Guide.Title(\"delta de vol de canal portal segun modo. Entre 0 y 3\"),\n",
    "Coord.Cartesian(xmin=1, xmax=400),\n",
    "Guide.xticks(ticks = collect(1:20:400), orientation=:horizontal))"
   ]
  },
  {
   "cell_type": "code",
   "execution_count": null,
   "metadata": {
    "collapsed": false
   },
   "outputs": [],
   "source": [
    "df_gdte_portal = DataFrame(delta = gdte_portal_dd3)\n",
    "pdf_gdte_portal = plot(df_gdte_portal,\n",
    "y=\"delta\",  \n",
    "Geom.bar(position=:dodge), \n",
    "Guide.Title(\"delta de vol de canal portal segun modo. Entre -3 y 3\"),\n",
    "Coord.Cartesian(xmin=1, xmax=400),\n",
    "Guide.xticks(ticks = collect(1:20:400), orientation=:horizontal))"
   ]
  },
  {
   "cell_type": "markdown",
   "metadata": {},
   "source": [
    "### Comparo los vectores obtenidos entre [-3;0] [0;3] [-3;3]"
   ]
  },
  {
   "cell_type": "code",
   "execution_count": null,
   "metadata": {
    "collapsed": false
   },
   "outputs": [],
   "source": [
    "dot(gdte_portal_d3, gdte_portal_d_3)"
   ]
  },
  {
   "cell_type": "code",
   "execution_count": null,
   "metadata": {
    "collapsed": false
   },
   "outputs": [],
   "source": [
    "dot(gdte_portal_dd3, gdte_portal_d_3)"
   ]
  },
  {
   "cell_type": "code",
   "execution_count": null,
   "metadata": {
    "collapsed": false
   },
   "outputs": [],
   "source": [
    "dot(gdte_portal_d3, gdte_portal_dd3)"
   ]
  },
  {
   "cell_type": "markdown",
   "metadata": {},
   "source": [
    "### Canal largo"
   ]
  },
  {
   "cell_type": "code",
   "execution_count": null,
   "metadata": {
    "collapsed": false
   },
   "outputs": [],
   "source": [
    "df_gdte_largo = DataFrame(delta = gdte_largo_d_3)\n",
    "pdf_gdte_largo = plot(df_gdte_largo,\n",
    "y=\"delta\",  \n",
    "Geom.bar(position=:dodge), \n",
    "Guide.Title(\"delta de vol de canal largo segun modo. Entre -3 y 0\"),\n",
    "Coord.Cartesian(xmin=1, xmax=400),\n",
    "Guide.xticks(ticks = collect(1:20:400), orientation=:horizontal))"
   ]
  },
  {
   "cell_type": "code",
   "execution_count": null,
   "metadata": {
    "collapsed": false
   },
   "outputs": [],
   "source": [
    "df_gdte_largo = DataFrame(delta = gdte_largo_d3)\n",
    "pdf_gdte_largo = plot(df_gdte_largo,\n",
    "y=\"delta\",  \n",
    "Geom.bar(position=:dodge), \n",
    "Guide.Title(\"delta de vol de canal largo segun modo. Entre 0 y 3\"),\n",
    "Coord.Cartesian(xmin=1, xmax=400),\n",
    "Guide.xticks(ticks = collect(1:20:400), orientation=:horizontal))"
   ]
  },
  {
   "cell_type": "code",
   "execution_count": null,
   "metadata": {
    "collapsed": false
   },
   "outputs": [],
   "source": [
    "df_gdte_largo = DataFrame(delta = gdte_largo_dd3)\n",
    "pdf_gdte_largo = plot(df_gdte_largo,\n",
    "y=\"delta\",  \n",
    "Geom.bar(position=:dodge), \n",
    "Guide.Title(\"delta de vol de canal largo segun modo. Entre -3 y 3\"),\n",
    "Coord.Cartesian(xmin=1, xmax=400),\n",
    "Guide.xticks(ticks = collect(1:20:400), orientation=:horizontal))"
   ]
  },
  {
   "cell_type": "markdown",
   "metadata": {},
   "source": [
    "### Comparo los vectores obtenidos entre [-3;0] [0;3] [-3;3]"
   ]
  },
  {
   "cell_type": "code",
   "execution_count": null,
   "metadata": {
    "collapsed": false
   },
   "outputs": [],
   "source": [
    "dot(gdte_largo_d3, gdte_largo_d_3)"
   ]
  },
  {
   "cell_type": "code",
   "execution_count": null,
   "metadata": {
    "collapsed": false
   },
   "outputs": [],
   "source": [
    "dot(gdte_largo_dd3, gdte_largo_d_3)"
   ]
  },
  {
   "cell_type": "code",
   "execution_count": null,
   "metadata": {
    "collapsed": false
   },
   "outputs": [],
   "source": [
    "dot(gdte_largo_d3, gdte_largo_dd3)"
   ]
  },
  {
   "cell_type": "markdown",
   "metadata": {},
   "source": [
    "### Guardo los 3 gráficos en 1 pdf"
   ]
  },
  {
   "cell_type": "code",
   "execution_count": null,
   "metadata": {
    "collapsed": false
   },
   "outputs": [],
   "source": [
    "magnitude = 3\n",
    "displacement = string(\"dd\", magnitude)\n",
    "out_filename_pdf_gdte_corto = string(\"/home/german/labo/16/hemo/rtdos_log/newana_\", displacement,\"_corto_mtn.pdf\")\n",
    "out_filename_pdf_gdte_portal = string(\"/home/german/labo/16/hemo/rtdos_log/newana_\", displacement,\"_portal_mtn.pdf\")\n",
    "out_filename_pdf_gdte_largo = string(\"/home/german/labo/16/hemo/rtdos_log/newana_\", displacement,\"_largo_mtn.pdf\")\n",
    "out_filename_pdf_gdtes = string(\"/home/german/labo/16/hemo/rtdos_log/newana_\", displacement,\"_mtn.pdf\")\n",
    "# Guardo los plots\n",
    "draw(PDF(out_filename_pdf_gdte_corto, 20cm, 10cm), pdf_gdte_corto)\n",
    "draw(PDF(out_filename_pdf_gdte_portal, 20cm, 10cm), pdf_gdte_portal)\n",
    "draw(PDF(out_filename_pdf_gdte_largo, 20cm, 10cm), pdf_gdte_largo)\n",
    "run(`pdftk $out_filename_pdf_gdte_corto $out_filename_pdf_gdte_portal $out_filename_pdf_gdte_largo output $out_filename_pdf_gdtes`)\n",
    "run(`rm $out_filename_pdf_gdte_corto`)\n",
    "run(`rm $out_filename_pdf_gdte_portal`)\n",
    "run(`rm $out_filename_pdf_gdte_largo`)"
   ]
  },
  {
   "cell_type": "markdown",
   "metadata": {},
   "source": [
    "# Gradiente de 1 solo pocket en base de modos de PCA"
   ]
  },
  {
   "cell_type": "markdown",
   "metadata": {},
   "source": [
    "### Preparo variables y leo archivos de pdb y modos."
   ]
  },
  {
   "cell_type": "code",
   "execution_count": null,
   "metadata": {
    "collapsed": false
   },
   "outputs": [],
   "source": [
    "# Preparo variables\n",
    "natom_res = Array{Int64}(1);\n",
    "# Leo el pdb\n",
    "pdb_name = \"mtn\"\n",
    "filename_pdb_file_original = string(\"/home/german/labo/16/hemo/cavities/newana_mode_gradient/bu/cut_avg_\", pdb_name, \".pdb\")\n",
    "mtn_pdb = read(filename_pdb_file_original, PDBFile, group=\"ATOM\");\n",
    "# Obtengo el número de átomos de c/ residuo\n",
    "for i=1:length(mtn_pdb)\n",
    "    push!(natom_res, length(mtn_pdb[i]))\n",
    "end\n",
    "shift!(natom_res)\n",
    "# Obtengo el nro de aa's\n",
    "aa = length(mtn_pdb)\n",
    "aa3 = aa * 3\n",
    "modo_sum = Array{Float64}(aa, 3);\n",
    "\n",
    "# Arrays p/ guardar volumenes de pockets\n",
    "vol_pocket_mtn_whole = Array{Float64}(aa3-6);\n",
    "vol_pocket_mtn_whole_ = Array{Float64}(aa3-6);\n",
    "\n",
    "# Leo los modos de PCA. Ya tienen cortados a los aminoácidos de los extremos.\n",
    "modes_mtn, evals_mtn = read_ptraj_modes(\"/home/german/labo/16/hemo/run/mtn/pca/modes_mtn\", aa3);\n",
    "\n",
    "# Template p/ pdbs de salida\n",
    "files_template = \"/home/german/labo/16/hemo/cavities/newana_mode_gradient/mtn/\"\n",
    "# Archivos de config de ANA\n",
    "conf_mtn_whole = \"/home/german/labo/16/hemo/cavities/newana_mode_gradient/bu/mtn_whole.cfg\""
   ]
  },
  {
   "cell_type": "code",
   "execution_count": null,
   "metadata": {
    "collapsed": true
   },
   "outputs": [],
   "source": [
    "# Ahora calculo los vectores\n",
    "for magnitude in [-3; 3]\n",
    "    if magnitude >= 0\n",
    "        magnitude_ = magnitude\n",
    "        displacement = string(\"d\", magnitude_)\n",
    "    else\n",
    "        magnitude_ = magnitude * -1\n",
    "        displacement = string(\"d_\", magnitude_)\n",
    "    end\n",
    "    \n",
    "    # Meta?\n",
    "    global vec_gdte_whole = symbol(\"gdte_whole_\", displacement)\n",
    "    \n",
    "    out_gdte_corto = string(\"gdte_whole_\", magnitude)\n",
    "    for j=1:aa3-6\n",
    "        pdb_mtn = string(files_template, displacement, \"/\", \"mod\", j, \"_\", displacement, \"_mtn.pdb\")\n",
    "    # Calculo el pocket        \n",
    "        vol_pocket_mtn_whole[j] = parse(Float64, readall(`ANA $pdb_mtn -c $conf_mtn_whole`))\n",
    "    end\n",
    "\n",
    "    # Calculo el pocket original\n",
    "    pdb_mtn = \"/home/german/labo/16/hemo/cavities/newana_mode_gradient/bu/cut_avg_mtn.pdb\"    \n",
    "    orig_vol_pocket_mtn_whole = parse(Float64, readall(`ANA $pdb_mtn -c $conf_mtn_whole`))\n",
    "        \n",
    "    # Obtengo los vectores gradiente p/ c/ hueco # 1=corto; 2=portal; 3=largo\n",
    "    vec_pocket_mtn_whole = (vol_pocket_mtn_whole .- orig_vol_pocket_mtn_whole)\n",
    "    # Los normalizo\n",
    "    vec_pocket_mtn_whole = vec_pocket_mtn_whole / norm(vec_pocket_mtn_whole)\n",
    "    \n",
    "    # Los guardo\n",
    "    filename_out_gdte_whole = string(\"/home/german/labo/16/hemo/cavities/newana_mode_gradient/vtores/\", magnitude,\"_vec_pocket_mtn_whole\")  \n",
    "    #\n",
    "    df_gdte_whole = DataFrame(delta = vec_pocket_mtn_whole)\n",
    "    #\n",
    "    writetable(filename_out_gdte_whole, df_gdte_whole)\n",
    "    \n",
    "    # Meta?\n",
    "    @eval ($vec_gdte_whole = $vec_pocket_mtn_whole)           \n",
    "end"
   ]
  },
  {
   "cell_type": "code",
   "execution_count": null,
   "metadata": {
    "collapsed": false
   },
   "outputs": [],
   "source": [
    "# Ahora calculo los vectores\n",
    "magnitude_ = -3\n",
    "magnitude = 3\n",
    "displacement_ = string(\"d_\", magnitude)\n",
    "displacement = string(\"d\", magnitude)\n",
    "ddisplacement = string(\"dd\", magnitude)\n",
    "# Meta?\n",
    "global vec_gdte_whole = symbol(\"gdte_whole_\", ddisplacement)\n",
    "    \n",
    "out_gdte_whole = string(\"gdte_whole_\", magnitude) \n",
    "for j=1:aa3-6\n",
    "    pdb_mtn = string(files_template, displacement, \"/\", \"mod\", j, \"_\", displacement, \"_mtn.pdb\")\n",
    "# Calculo el pocket        \n",
    "    vol_pocket_mtn_whole[j] = parse(Float64, readall(`ANA $pdb_mtn -c $conf_mtn_whole`))\n",
    "end\n",
    "for j=1:aa3-6\n",
    "    pdb_mtn = string(files_template, displacement_, \"/\", \"mod\", j, \"_\", displacement_, \"_mtn.pdb\")\n",
    "# Calculo el pocket        \n",
    "    vol_pocket_mtn_whole_[j] = parse(Float64, readall(`ANA $pdb_mtn -c $conf_mtn_whole`))    \n",
    "end\n",
    "     \n",
    "# Obtengo los vectores gradiente p/ c/ hueco # 1=corto; 2=portal; 3=largo\n",
    "vec_pocket_mtn_whole = (vol_pocket_mtn_whole - vol_pocket_mtn_whole_)\n",
    "# Los normalizo\n",
    "vec_pocket_mtn_whole = vec_pocket_mtn_whole / norm(vec_pocket_mtn_whole)\n",
    "\n",
    "# Los guardo\n",
    "filename_out_gdte_whole = string(\"/home/german/labo/16/hemo/cavities/newana_mode_gradient/vtores/\", ddisplacement,\"_vec_pocket_mtn_whole\")  \n",
    "#\n",
    "df_gdte_whole = DataFrame(delta = vec_pocket_mtn_whole)\n",
    "#\n",
    "writetable(filename_out_gdte_whole, df_gdte_whole)\n",
    "    \n",
    "# Meta?\n",
    "@eval ($vec_gdte_whole = $vec_pocket_mtn_whole);"
   ]
  },
  {
   "cell_type": "markdown",
   "metadata": {},
   "source": [
    "### Grafico los vectores. El eje 'x' es el nro de elemento y el 'y' el valor del elemento."
   ]
  },
  {
   "cell_type": "code",
   "execution_count": null,
   "metadata": {
    "collapsed": false
   },
   "outputs": [],
   "source": [
    "df_gdte_corto = DataFrame(delta = gdte_whole_d_3)\n",
    "pdf_gdte_corto = plot(df_gdte_corto,\n",
    "y=\"delta\",  \n",
    "Geom.bar(position=:dodge),\n",
    "Guide.Title(\"delta de vol de canal whole segun modo\"),\n",
    "Coord.Cartesian(xmin=1, xmax=400),\n",
    "Guide.xticks(ticks = collect(1:20:400), orientation=:horizontal))"
   ]
  },
  {
   "cell_type": "code",
   "execution_count": null,
   "metadata": {
    "collapsed": false
   },
   "outputs": [],
   "source": [
    "df_gdte_portal = DataFrame(delta = gdte_whole_d3)\n",
    "pdf_gdte_portal = plot(df_gdte_portal,\n",
    "y=\"delta\",  \n",
    "Geom.bar(position=:dodge), \n",
    "Guide.Title(\"delta de vol de whole segun modo\"),\n",
    "Coord.Cartesian(xmin=1, xmax=400),\n",
    "Guide.xticks(ticks = collect(1:20:400), orientation=:horizontal))"
   ]
  },
  {
   "cell_type": "code",
   "execution_count": null,
   "metadata": {
    "collapsed": false
   },
   "outputs": [],
   "source": [
    "df_gdte_whole = DataFrame(delta = gdte_whole_dd3)\n",
    "pdf_gdte_whole = plot(df_gdte_whole,\n",
    "y=\"delta\",  \n",
    "Geom.bar(position=:dodge), \n",
    "Guide.Title(\"delta de vol de canal MTN whole segun modo\"),\n",
    "Coord.Cartesian(xmin=1, xmax=400),\n",
    "Guide.xticks(ticks = collect(1:20:400), orientation=:horizontal))"
   ]
  },
  {
   "cell_type": "markdown",
   "metadata": {},
   "source": [
    "### Comparo los vectores obtenidos entre [-3;0] [0;3] [-3;3]"
   ]
  },
  {
   "cell_type": "code",
   "execution_count": null,
   "metadata": {
    "collapsed": false
   },
   "outputs": [],
   "source": [
    "dot(gdte_whole_d3, gdte_whole_d_3)"
   ]
  },
  {
   "cell_type": "code",
   "execution_count": null,
   "metadata": {
    "collapsed": false
   },
   "outputs": [],
   "source": [
    "dot(gdte_whole_dd3, gdte_whole_d_3)"
   ]
  },
  {
   "cell_type": "code",
   "execution_count": null,
   "metadata": {
    "collapsed": false
   },
   "outputs": [],
   "source": [
    "dot(gdte_whole_d3, gdte_whole_dd3)"
   ]
  },
  {
   "cell_type": "markdown",
   "metadata": {},
   "source": [
    "### Guardo el gráfico en 1 pdf"
   ]
  },
  {
   "cell_type": "code",
   "execution_count": null,
   "metadata": {
    "collapsed": false
   },
   "outputs": [],
   "source": [
    "magnitude = 3\n",
    "displacement = string(\"dd\", magnitude)\n",
    "out_filename_pdf_gdte_whole = string(\"/home/german/labo/16/hemo/rtdos_log/newana_\", displacement,\"whole_mtn.pdf\")\n",
    "# Guardo el plot\n",
    "draw(PDF(out_filename_pdf_gdte_whole, 20cm, 10cm), pdf_gdte_whole)"
   ]
  },
  {
   "cell_type": "code",
   "execution_count": null,
   "metadata": {
    "collapsed": true
   },
   "outputs": [],
   "source": []
  }
 ],
 "metadata": {
  "anaconda-cloud": {},
  "kernelspec": {
   "display_name": "Julia 0.4.6",
   "language": "julia",
   "name": "julia-0.4"
  },
  "language_info": {
   "file_extension": ".jl",
   "mimetype": "application/julia",
   "name": "julia",
   "version": "0.4.6"
  }
 },
 "nbformat": 4,
 "nbformat_minor": 0
}
