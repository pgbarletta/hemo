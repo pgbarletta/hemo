{
 "cells": [
  {
   "cell_type": "markdown",
   "metadata": {},
   "source": [
    "# Acá hago pdtos escalares entre los gradientes con distintos desplazamientos q obtuve"
   ]
  },
  {
   "cell_type": "markdown",
   "metadata": {},
   "source": [
    "## Vectores gradiente de modos"
   ]
  },
  {
   "cell_type": "code",
   "execution_count": 2,
   "metadata": {
    "collapsed": false
   },
   "outputs": [
    {
     "ename": "LoadError",
     "evalue": "LoadError: UndefVarError: set_default_plot_size not defined\nwhile loading In[2], in expression starting on line 3",
     "output_type": "error",
     "traceback": [
      "LoadError: UndefVarError: set_default_plot_size not defined\nwhile loading In[2], in expression starting on line 3",
      ""
     ]
    }
   ],
   "source": [
    "using DataFrames\n",
    "using Distributions"
   ]
  },
  {
   "cell_type": "code",
   "execution_count": 9,
   "metadata": {
    "collapsed": false,
    "scrolled": true
   },
   "outputs": [],
   "source": [
    "out_vec_1 = string(\"/home/german/labo/16/hemo/cavities/ana_mode_gradient/vtores/\", 1,\"_vec_pocket_mto_corto\")\n",
    "out_vec_2 = string(\"/home/german/labo/16/hemo/cavities/ana_mode_gradient/vtores/\", 3,\"_vec_pocket_mto_corto\")\n",
    "out_vec_3 = string(\"/home/german/labo/16/hemo/cavities/ana_mode_gradient/vtores/\", 5,\"_vec_pocket_mto_corto\")\n",
    "out_vec_4 = string(\"/home/german/labo/16/hemo/cavities/ana_mode_gradient/vtores/\", 8,\"_vec_pocket_mto_corto\")\n",
    "\n",
    "df_vec_pocket_corto_1 = readtable(out_vec_1)\n",
    "df_vec_pocket_corto_3 = readtable(out_vec_2)\n",
    "df_vec_pocket_corto_5 = readtable(out_vec_3)\n",
    "df_vec_pocket_corto_8 = readtable(out_vec_4);\n",
    "\n",
    "mt_corto = [df_vec_pocket_corto_1[:, 1]  df_vec_pocket_corto_3[:, 1] df_vec_pocket_corto_5[:, 1] df_vec_pocket_corto_8[:, 1]]\n",
    "\n",
    "out_vec_1 = string(\"/home/german/labo/16/hemo/cavities/ana_mode_gradient/vtores/\", 1,\"_vec_pocket_mto_portal\")\n",
    "out_vec_2 = string(\"/home/german/labo/16/hemo/cavities/ana_mode_gradient/vtores/\", 3,\"_vec_pocket_mto_portal\")\n",
    "out_vec_3 = string(\"/home/german/labo/16/hemo/cavities/ana_mode_gradient/vtores/\", 5,\"_vec_pocket_mto_portal\")\n",
    "out_vec_4 = string(\"/home/german/labo/16/hemo/cavities/ana_mode_gradient/vtores/\", 8,\"_vec_pocket_mto_portal\")\n",
    "\n",
    "df_vec_pocket_portal_1 = readtable(out_vec_1)\n",
    "df_vec_pocket_portal_3 = readtable(out_vec_2)\n",
    "df_vec_pocket_portal_5 = readtable(out_vec_3)\n",
    "df_vec_pocket_portal_8 = readtable(out_vec_4);\n",
    "\n",
    "mt_portal = [df_vec_pocket_portal_1[:, 1]  df_vec_pocket_portal_3[:, 1] df_vec_pocket_portal_5[:, 1] df_vec_pocket_portal_8[:, 1]]\n",
    "\n",
    "out_vec_1 = string(\"/home/german/labo/16/hemo/cavities/ana_mode_gradient/vtores/\", 1,\"_vec_pocket_mto_largo\")\n",
    "out_vec_2 = string(\"/home/german/labo/16/hemo/cavities/ana_mode_gradient/vtores/\", 3,\"_vec_pocket_mto_largo\")\n",
    "out_vec_3 = string(\"/home/german/labo/16/hemo/cavities/ana_mode_gradient/vtores/\", 5,\"_vec_pocket_mto_largo\")\n",
    "out_vec_4 = string(\"/home/german/labo/16/hemo/cavities/ana_mode_gradient/vtores/\", 8,\"_vec_pocket_mto_largo\")\n",
    "\n",
    "df_vec_pocket_largo_1 = readtable(out_vec_1)\n",
    "df_vec_pocket_largo_3 = readtable(out_vec_2)\n",
    "df_vec_pocket_largo_5 = readtable(out_vec_3)\n",
    "df_vec_pocket_largo_8 = readtable(out_vec_4);\n",
    "\n",
    "mt_largo = [df_vec_pocket_largo_1[:, 1]  df_vec_pocket_largo_3[:, 1] df_vec_pocket_largo_5[:, 1] df_vec_pocket_largo_8[:, 1]];"
   ]
  },
  {
   "cell_type": "code",
   "execution_count": 10,
   "metadata": {
    "collapsed": false,
    "scrolled": true
   },
   "outputs": [
    {
     "data": {
      "text/plain": [
       "4x4 DataArrays.DataArray{Float64,2}:\n",
       " 1.0       0.539655  0.426298  0.410078\n",
       " 0.539655  1.0       0.91519   0.820299\n",
       " 0.426298  0.91519   1.0       0.927285\n",
       " 0.410078  0.820299  0.927285  1.0     "
      ]
     },
     "execution_count": 10,
     "metadata": {},
     "output_type": "execute_result"
    }
   ],
   "source": [
    "transpose(mt_corto) * mt_corto"
   ]
  },
  {
   "cell_type": "code",
   "execution_count": 11,
   "metadata": {
    "collapsed": false,
    "scrolled": true
   },
   "outputs": [
    {
     "data": {
      "text/plain": [
       "4x4 DataArrays.DataArray{Float64,2}:\n",
       " 1.0       0.507648  0.338498  0.254674\n",
       " 0.507648  1.0       0.703513  0.559976\n",
       " 0.338498  0.703513  1.0       0.817599\n",
       " 0.254674  0.559976  0.817599  1.0     "
      ]
     },
     "execution_count": 11,
     "metadata": {},
     "output_type": "execute_result"
    }
   ],
   "source": [
    "transpose(mt_portal) * mt_portal"
   ]
  },
  {
   "cell_type": "code",
   "execution_count": 12,
   "metadata": {
    "collapsed": false,
    "scrolled": true
   },
   "outputs": [
    {
     "data": {
      "text/plain": [
       "4x4 DataArrays.DataArray{Float64,2}:\n",
       " 1.0       0.675437  0.67528   0.643203\n",
       " 0.675437  1.0       0.875143  0.787217\n",
       " 0.67528   0.875143  1.0       0.907378\n",
       " 0.643203  0.787217  0.907378  1.0     "
      ]
     },
     "execution_count": 12,
     "metadata": {},
     "output_type": "execute_result"
    }
   ],
   "source": [
    "transpose(mt_largo) * mt_largo"
   ]
  },
  {
   "cell_type": "markdown",
   "metadata": {},
   "source": [
    "## Vectores gradiente de coordenadas"
   ]
  },
  {
   "cell_type": "code",
   "execution_count": null,
   "metadata": {
    "collapsed": true
   },
   "outputs": [],
   "source": [
    "out_vec_1 = string(\"/home/german/labo/16/hemo/cavities/3displ/vtores/\", 1,\"_vec_pocket_mto_corto\")\n",
    "out_vec_2 = string(\"/home/german/labo/16/hemo/cavities/3displ/vtores/\", 3,\"_vec_pocket_mto_corto\")\n",
    "out_vec_3 = string(\"/home/german/labo/16/hemo/cavities/3displ/vtores/\", 5,\"_vec_pocket_mto_corto\")\n",
    "out_vec_4 = string(\"/home/german/labo/16/hemo/cavities/3displ/vtores/\", 8,\"_vec_pocket_mto_corto\")\n",
    "\n",
    "df_vec_pocket_corto_1 = readtable(out_vec_1)\n",
    "df_vec_pocket_corto_3 = readtable(out_vec_2)\n",
    "df_vec_pocket_corto_5 = readtable(out_vec_3)\n",
    "df_vec_pocket_corto_8 = readtable(out_vec_4);\n",
    "\n",
    "mt_corto = [df_vec_pocket_corto_1[:, 1]  df_vec_pocket_corto_3[:, 1] df_vec_pocket_corto_5[:, 1] df_vec_pocket_corto_8[:, 1]]\n",
    "\n",
    "out_vec_1 = string(\"/home/german/labo/16/hemo/cavities/3displ/vtores/\", 1,\"_vec_pocket_mto_portal\")\n",
    "out_vec_2 = string(\"/home/german/labo/16/hemo/cavities/3displ/vtores/\", 3,\"_vec_pocket_mto_portal\")\n",
    "out_vec_3 = string(\"/home/german/labo/16/hemo/cavities/3displ/vtores/\", 5,\"_vec_pocket_mto_portal\")\n",
    "out_vec_4 = string(\"/home/german/labo/16/hemo/cavities/3displ/vtores/\", 8,\"_vec_pocket_mto_portal\")\n",
    "\n",
    "df_vec_pocket_portal_1 = readtable(out_vec_1)\n",
    "df_vec_pocket_portal_3 = readtable(out_vec_2)\n",
    "df_vec_pocket_portal_5 = readtable(out_vec_3)\n",
    "df_vec_pocket_portal_8 = readtable(out_vec_4);\n",
    "\n",
    "mt_portal = [df_vec_pocket_portal_1[:, 1]  df_vec_pocket_portal_3[:, 1] df_vec_pocket_portal_5[:, 1] df_vec_pocket_portal_8[:, 1]]\n",
    "\n",
    "out_vec_1 = string(\"/home/german/labo/16/hemo/cavities/3displ/vtores/\", 1,\"_vec_pocket_mto_largo\")\n",
    "out_vec_2 = string(\"/home/german/labo/16/hemo/cavities/3displ/vtores/\", 3,\"_vec_pocket_mto_largo\")\n",
    "out_vec_3 = string(\"/home/german/labo/16/hemo/cavities/3displ/vtores/\", 5,\"_vec_pocket_mto_largo\")\n",
    "out_vec_4 = string(\"/home/german/labo/16/hemo/cavities/3displ/vtores/\", 8,\"_vec_pocket_mto_largo\")\n",
    "\n",
    "df_vec_pocket_largo_1 = readtable(out_vec_1)\n",
    "df_vec_pocket_largo_3 = readtable(out_vec_2)\n",
    "df_vec_pocket_largo_5 = readtable(out_vec_3)\n",
    "df_vec_pocket_largo_8 = readtable(out_vec_4);\n",
    "\n",
    "mt_largo = [df_vec_pocket_largo_1[:, 1]  df_vec_pocket_largo_3[:, 1] df_vec_pocket_largo_5[:, 1] df_vec_pocket_largo_8[:, 1]];"
   ]
  },
  {
   "cell_type": "code",
   "execution_count": 32,
   "metadata": {
    "collapsed": false,
    "scrolled": true
   },
   "outputs": [
    {
     "data": {
      "text/plain": [
       "4x4 DataArrays.DataArray{Float64,2}:\n",
       " 1.0       0.28132   0.459523  0.472678\n",
       " 0.28132   1.0       0.862238  0.729581\n",
       " 0.459523  0.862238  1.0       0.909615\n",
       " 0.472678  0.729581  0.909615  1.0     "
      ]
     },
     "execution_count": 32,
     "metadata": {},
     "output_type": "execute_result"
    }
   ],
   "source": [
    "transpose(mt_corto) * mt_corto"
   ]
  },
  {
   "cell_type": "code",
   "execution_count": 33,
   "metadata": {
    "collapsed": false,
    "scrolled": true
   },
   "outputs": [
    {
     "data": {
      "text/plain": [
       "4x4 DataArrays.DataArray{Float64,2}:\n",
       " 1.0       0.883193  0.807711  0.499226\n",
       " 0.883193  1.0       0.805441  0.480338\n",
       " 0.807711  0.805441  1.0       0.799678\n",
       " 0.499226  0.480338  0.799678  1.0     "
      ]
     },
     "execution_count": 33,
     "metadata": {},
     "output_type": "execute_result"
    }
   ],
   "source": [
    "transpose(mt_portal) * mt_portal"
   ]
  },
  {
   "cell_type": "code",
   "execution_count": 34,
   "metadata": {
    "collapsed": false,
    "scrolled": true
   },
   "outputs": [
    {
     "data": {
      "text/plain": [
       "4x4 DataArrays.DataArray{Float64,2}:\n",
       " 1.0       0.490983  0.343495  0.374289\n",
       " 0.490983  1.0       0.804273  0.749838\n",
       " 0.343495  0.804273  1.0       0.869633\n",
       " 0.374289  0.749838  0.869633  1.0     "
      ]
     },
     "execution_count": 34,
     "metadata": {},
     "output_type": "execute_result"
    }
   ],
   "source": [
    "transpose(mt_largo) * mt_largo"
   ]
  },
  {
   "cell_type": "markdown",
   "metadata": {
    "collapsed": true
   },
   "source": [
    "## Ahora desplazo las estructuras a lo largo de los vectores gradiente"
   ]
  },
  {
   "cell_type": "code",
   "execution_count": 1,
   "metadata": {
    "collapsed": true
   },
   "outputs": [],
   "source": [
    "# Leo el pdb\n",
    "# Guardo los pdbs desplazados en los gradientes\n",
    "n1 = displaceAA(pdb, vec_pocket_1, 30)\n",
    "write(\"/home/german/labo/16/hemo/cavities/3displ/pymol/mto_corto_05.pdb\", n1, PDBFile)\n",
    "n2 = displaceAA(pdb, vec_pocket_2, 30)\n",
    "write(\"/home/german/labo/16/hemo/cavities/3displ/pymol/mto_portal_05.pdb\", n2, PDBFile)\n",
    "n3 = displaceAA(pdb, vec_pocket_3, 30)\n",
    "write(\"/home/german/labo/16/hemo/cavities/3displ/pymol/mto_largo_05.pdb\", n3, PDBFile)"
   ]
  },
  {
   "cell_type": "code",
   "execution_count": null,
   "metadata": {
    "collapsed": true
   },
   "outputs": [],
   "source": []
  }
 ],
 "metadata": {
  "anaconda-cloud": {},
  "kernelspec": {
   "display_name": "Julia 0.4.6",
   "language": "julia",
   "name": "julia-0.4"
  },
  "language_info": {
   "file_extension": ".jl",
   "mimetype": "application/julia",
   "name": "julia",
   "version": "0.4.6"
  }
 },
 "nbformat": 4,
 "nbformat_minor": 0
}
