{
 "cells": [
  {
   "cell_type": "code",
   "execution_count": 1,
   "metadata": {
    "collapsed": true
   },
   "outputs": [],
   "source": [
    "#writetable(\"pjtion_corto_mto\", df_pjtion_corto_mto, separator='\\t');\n",
    "#writetable(\"pjtion_largo_mto\", df_pjtion_largo_mto, separator='\\t');\n",
    "#writetable(\"pjtion_portal_mto\", df_pjtion_portal_mto, separator='\\t');"
   ]
  },
  {
   "cell_type": "code",
   "execution_count": 2,
   "metadata": {
    "collapsed": false
   },
   "outputs": [
    {
     "name": "stderr",
     "output_type": "stream",
     "text": [
      "\n",
      "WARNING: deprecated syntax \"{}\" at /home/german/.julia/v0.4/Switch/src/Switch.jl:8.\n",
      "Use \"[]\" instead.\n",
      "\n",
      "WARNING: deprecated syntax \"{}\" at /home/german/.julia/v0.4/Switch/src/Switch.jl:9.\n",
      "Use \"[]\" instead.\n",
      "\n",
      "WARNING: deprecated syntax \"{}\" at /home/german/.julia/v0.4/Switch/src/Switch.jl:21.\n",
      "Use \"[]\" instead.\n",
      "\n",
      "WARNING: deprecated syntax \"{}\" at /home/german/.julia/v0.4/Switch/src/Switch.jl:30.\n",
      "Use \"[]\" instead.\n",
      "\n",
      "WARNING: deprecated syntax \"{}\" at /home/german/.julia/v0.4/Switch/src/Switch.jl:44.\n",
      "Use \"[]\" instead.\n",
      "\n",
      "WARNING: deprecated syntax \"{}\" at /home/german/.julia/v0.4/Switch/src/Switch.jl:61.\n",
      "Use \"[]\" instead.\n"
     ]
    }
   ],
   "source": [
    "using DataFrames\n",
    "using Chemfiles\n",
    "using Gadfly\n",
    "using Cairo\n",
    "using Distributions\n",
    "using Bio\n",
    "set_default_plot_size(28cm, 16cm)"
   ]
  },
  {
   "cell_type": "code",
   "execution_count": 3,
   "metadata": {
    "collapsed": false
   },
   "outputs": [
    {
     "data": {
      "text/plain": [
       "read_ptraj_modes (generic function with 1 method)"
      ]
     },
     "execution_count": 3,
     "metadata": {},
     "output_type": "execute_result"
    }
   ],
   "source": [
    "function read_ptraj_modes(file, modes_elements)    \n",
    "    modes_file=open(file, \"r\")\n",
    "    modes_text = readdlm(modes_file, skipstart=0, skipblanks=true, \n",
    "    ignore_invalid_chars=true, comments=true, comment_char='\\*')\n",
    "    close(modes_file)\n",
    "\n",
    "    nmodes = modes_text[1, 5]\n",
    "    ncoords = convert(Int64, modes_elements)\n",
    "    lines = ceil(Int64, ncoords/7)\n",
    "    rest = convert(Int64, ncoords % 7)\n",
    "    \n",
    "    eval=Array{Float64}(nmodes);\n",
    "    mode = Array{Float64}(ncoords, nmodes);\n",
    "    temp1=Array{Float64}(ncoords, 1);\n",
    "    temp2 = Array{Float64}(ncoords+(7-rest));\n",
    "\n",
    "    j=lines + 1 + 2 # 1 p/ q lea la prox linea 2 por el header\n",
    "\n",
    "    for i=1:nmodes\n",
    "        eval[i] = modes_text[j, 2]\n",
    "        temp = transpose(modes_text[(j+1):(lines+j), :])\n",
    "        temp2 = reshape(temp, ncoords+(7-rest))\n",
    "        for k=(rest+1):7\n",
    "            pop!(temp2)\n",
    "        end\n",
    "    mode[:, i] = temp2\n",
    "        j = j + lines + 1\n",
    "    end\n",
    "    \n",
    "    for i=1:nmodes\n",
    "        mode[: ,i] = mode[:, i] / norm(mode[:, i])\n",
    "    end\n",
    "    \n",
    "    return mode, eval\n",
    "end"
   ]
  },
  {
   "cell_type": "code",
   "execution_count": 4,
   "metadata": {
    "collapsed": false,
    "scrolled": true
   },
   "outputs": [],
   "source": [
    "#Preparo variables\n",
    "aa3_mtn = 321\n",
    "aa3_mto = 360\n",
    "aa3_tfo = 354\n",
    "aa36_mtn = aa3_mtn - 6\n",
    "aa36_mto = aa3_mto - 6\n",
    "aa36_tfo = aa3_tfo - 6\n",
    "\n",
    "index_mtn = collect(21:127) # el aa 128 de mtn es solo el N-term\n",
    "index_mtn_3 = map(x -> x*3, repeat(index_mtn, inner=[3])) - repeat([2, 1, 0], outer = [length(index_mtn)]);\n",
    "index_mto = collect(6:125) \n",
    "index_mto_3 = map(x -> x*3, repeat(index_mto, inner=[3])) - repeat([2, 1, 0], outer = [length(index_mto)]);\n",
    "index_tfo = collect(2:119)\n",
    "index_tfo_3 = map(x -> x*3, repeat(index_tfo, inner=[3])) - repeat([2, 1, 0], outer = [length(index_tfo)]);\n",
    "\n",
    "pjtion_mtn = Array{Float64}(aa36_mtn);\n",
    "\n",
    "as = Array{Float64}(aa36_mtn);\n",
    "\n",
    "pjtion_mto = Array{Float64}(aa36_mto);\n",
    "pjtion_tfo = Array{Float64}(aa36_tfo);"
   ]
  },
  {
   "cell_type": "code",
   "execution_count": 5,
   "metadata": {
    "collapsed": false
   },
   "outputs": [],
   "source": [
    "# Leo los modos de PCA\n",
    "modes_mtn_half_1, evals_mtn_half_1 = read_ptraj_modes(\"/home/german/labo/16/hemo/run/mtn/half_1_modes_mtn\", aa3_mtn);\n",
    "modes_mtn_half_2, evals_mtn_half_2 = read_ptraj_modes(\"/home/german/labo/16/hemo/run/mtn/half_2_modes_mtn\", aa3_mtn);\n",
    "\n",
    "modes_mto_half_1, evals_mto_half_1 = read_ptraj_modes(\"/home/german/labo/16/hemo/run/mto/half_1_modes_mto\", aa3_mto);\n",
    "modes_mto_half_2, evals_mto_half_2 = read_ptraj_modes(\"/home/german/labo/16/hemo/run/mto/half_2_modes_mto\", aa3_mto);\n",
    "\n",
    "modes_tfo_half_1, evals_tfo_half_1 = read_ptraj_modes(\"/home/german/labo/16/hemo/run/tfo/half_1_modes_tfo\", aa3_tfo);\n",
    "modes_tfo_half_2, evals_tfo_half_2 = read_ptraj_modes(\"/home/german/labo/16/hemo/run/tfo/half_2_modes_tfo\", aa3_tfo);"
   ]
  },
  {
   "cell_type": "code",
   "execution_count": 6,
   "metadata": {
    "collapsed": false
   },
   "outputs": [],
   "source": [
    "for i=1:aa36_mtn\n",
    "    pjtion_mtn[i] = (dot(modes_mtn_half_1[:, i], modes_mtn_half_2[:, i]))^2\n",
    "end\n",
    "\n",
    "for i=1:aa36_mto\n",
    "    pjtion_mto[i] = (dot(modes_mto_half_1[:, i], modes_mto_half_2[:, i]))^2\n",
    "end\n",
    "\n",
    "for i=1:aa36_tfo\n",
    "    pjtion_tfo[i] = (dot(modes_tfo_half_1[:, i], modes_tfo_half_2[:, i]))^2\n",
    "end"
   ]
  },
  {
   "cell_type": "code",
   "execution_count": 17,
   "metadata": {
    "collapsed": false
   },
   "outputs": [
    {
     "ename": "LoadError",
     "evalue": "LoadError: DimensionMismatch(\"dot product arguments have lengths 321 and 360\")\nwhile loading In[17], in expression starting on line 1",
     "output_type": "error",
     "traceback": [
      "LoadError: DimensionMismatch(\"dot product arguments have lengths 321 and 360\")\nwhile loading In[17], in expression starting on line 1",
      "",
      " in dot at linalg/blas.jl:154",
      " in dot at linalg/generic.jl:292",
      " [inlined code] from In[17]:2",
      " in anonymous at no file:0"
     ]
    }
   ],
   "source": [
    "for i=1:aa36_mtn\n",
    "    as[i] = (dot(modes_mtn_half_1[:, i], modes_mto_half_1[:, i]))^2\n",
    "end"
   ]
  },
  {
   "cell_type": "code",
   "execution_count": 16,
   "metadata": {
    "collapsed": true
   },
   "outputs": [],
   "source": [
    "as = Array{Float64}(aa36_mtn);"
   ]
  },
  {
   "cell_type": "code",
   "execution_count": 18,
   "metadata": {
    "collapsed": false
   },
   "outputs": [
    {
     "data": {
      "text/plain": [
       "354-element Array{Float64,1}:\n",
       " 0.151948   \n",
       " 0.326466   \n",
       " 0.0980506  \n",
       " 0.13329    \n",
       " 0.0599194  \n",
       " 0.142221   \n",
       " 0.0120073  \n",
       " 0.0796355  \n",
       " 0.0607129  \n",
       " 0.00191709 \n",
       " 0.0277126  \n",
       " 0.068491   \n",
       " 0.0931924  \n",
       " ⋮          \n",
       " 0.000280242\n",
       " 0.0200504  \n",
       " 0.0252896  \n",
       " 0.0574725  \n",
       " 0.00615649 \n",
       " 0.000250454\n",
       " 0.0769479  \n",
       " 0.0069645  \n",
       " 0.0216446  \n",
       " 0.144652   \n",
       " 0.124224   \n",
       " 0.0491012  "
      ]
     },
     "execution_count": 18,
     "metadata": {},
     "output_type": "execute_result"
    }
   ],
   "source": [
    "\n",
    "pjtion_mto"
   ]
  },
  {
   "cell_type": "code",
   "execution_count": null,
   "metadata": {
    "collapsed": true
   },
   "outputs": [],
   "source": []
  },
  {
   "cell_type": "code",
   "execution_count": null,
   "metadata": {
    "collapsed": true
   },
   "outputs": [],
   "source": []
  }
 ],
 "metadata": {
  "kernelspec": {
   "display_name": "Julia 0.4.2",
   "language": "julia",
   "name": "julia-0.4"
  },
  "language_info": {
   "file_extension": ".jl",
   "mimetype": "application/julia",
   "name": "julia",
   "version": "0.4.5"
  }
 },
 "nbformat": 4,
 "nbformat_minor": 0
}
