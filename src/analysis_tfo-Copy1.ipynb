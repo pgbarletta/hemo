{
 "cells": [
  {
   "cell_type": "code",
   "execution_count": 1,
   "metadata": {
    "collapsed": true
   },
   "outputs": [],
   "source": [
    "#writetable(\"pjtion_corto_tfo\", df_pjtion_corto_tfo, separator='\\t');\n",
    "#writetable(\"pjtion_largo_tfo\", df_pjtion_largo_tfo, separator='\\t');\n",
    "#writetable(\"pjtion_portal_tfo\", df_pjtion_portal_tfo, separator='\\t');"
   ]
  },
  {
   "cell_type": "code",
   "execution_count": 2,
   "metadata": {
    "collapsed": false
   },
   "outputs": [
    {
     "name": "stderr",
     "output_type": "stream",
     "text": [
      "\n",
      "WARNING: deprecated syntax \"{}\" at /home/german/.julia/v0.4/Switch/src/Switch.jl:8.\n",
      "Use \"[]\" instead.\n",
      "\n",
      "WARNING: deprecated syntax \"{}\" at /home/german/.julia/v0.4/Switch/src/Switch.jl:9.\n",
      "Use \"[]\" instead.\n",
      "\n",
      "WARNING: deprecated syntax \"{}\" at /home/german/.julia/v0.4/Switch/src/Switch.jl:21.\n",
      "Use \"[]\" instead.\n",
      "\n",
      "WARNING: deprecated syntax \"{}\" at /home/german/.julia/v0.4/Switch/src/Switch.jl:30.\n",
      "Use \"[]\" instead.\n",
      "\n",
      "WARNING: deprecated syntax \"{}\" at /home/german/.julia/v0.4/Switch/src/Switch.jl:44.\n",
      "Use \"[]\" instead.\n",
      "\n",
      "WARNING: deprecated syntax \"{}\" at /home/german/.julia/v0.4/Switch/src/Switch.jl:61.\n",
      "Use \"[]\" instead.\n"
     ]
    }
   ],
   "source": [
    "using DataFrames\n",
    "using Chemfiles\n",
    "using Gadfly\n",
    "using Cairo\n",
    "using Distributions\n",
    "using Bio\n",
    "set_default_plot_size(28cm, 16cm)"
   ]
  },
  {
   "cell_type": "code",
   "execution_count": 3,
   "metadata": {
    "collapsed": false
   },
   "outputs": [
    {
     "data": {
      "text/plain": [
       "read_ptraj_modes (generic function with 1 method)"
      ]
     },
     "execution_count": 3,
     "metadata": {},
     "output_type": "execute_result"
    }
   ],
   "source": [
    "function read_ptraj_modes(file, modes_elements)    \n",
    "    modes_file=open(file, \"r\")\n",
    "    modes_text = readdlm(modes_file, skipstart=0, skipblanks=true, \n",
    "    ignore_invalid_chars=true, comments=true, comment_char='\\*')\n",
    "    close(modes_file)\n",
    "\n",
    "    nmodes = modes_text[1, 5]\n",
    "    ncoords = convert(Int64, modes_elements)\n",
    "    lines = ceil(Int64, ncoords/7)\n",
    "    rest = convert(Int64, ncoords % 7)\n",
    "    \n",
    "    eval=Array{Float64}(nmodes);\n",
    "    mode = Array{Float64}(ncoords, nmodes);\n",
    "    temp1=Array{Float64}(ncoords, 1);\n",
    "    temp2 = Array{Float64}(ncoords+(7-rest));\n",
    "\n",
    "    j=lines + 1 + 2 # 1 p/ q lea la prox linea 2 por el header\n",
    "\n",
    "    for i=1:nmodes\n",
    "        eval[i] = modes_text[j, 2]\n",
    "        temp = transpose(modes_text[(j+1):(lines+j), :])\n",
    "        temp2 = reshape(temp, ncoords+(7-rest))\n",
    "        for k=(rest+1):7\n",
    "            pop!(temp2)\n",
    "        end\n",
    "    mode[:, i] = temp2\n",
    "        j = j + lines + 1\n",
    "    end\n",
    "    \n",
    "    for i=1:nmodes\n",
    "        mode[: ,i] = mode[:, i] / norm(mode[:, i])\n",
    "    end\n",
    "    \n",
    "    return mode, eval\n",
    "end"
   ]
  },
  {
   "cell_type": "code",
   "execution_count": 4,
   "metadata": {
    "collapsed": false,
    "scrolled": true
   },
   "outputs": [
    {
     "ename": "LoadError",
     "evalue": "LoadError: UndefVarError: aa3 not defined\nwhile loading In[4], in expression starting on line 2",
     "output_type": "error",
     "traceback": [
      "LoadError: UndefVarError: aa3 not defined\nwhile loading In[4], in expression starting on line 2",
      ""
     ]
    }
   ],
   "source": [
    "# Leo los modos de PCA. Ya tienen cortados a los aminoácidos de los extremos.\n",
    "modes_tfo, evals_tfo = read_ptraj_modes(\"/home/german/labo/16/hemo/run/tfo/modes_tfo\", aa3);\n",
    "\n",
    "# Leo los vectores gradiente de c/ cavidad, subsetteo los valores\n",
    "vtor_tfo_corto = readdlm(\"/home/german/labo/16/hemo/cavities/displ/vtores/vtor_tfo_corto_0008\")\n",
    "# Descarto los aa's de los extremos\n",
    "vtor_tfo_corto = vtor_tfo_corto[index_tfo_3]\n",
    "# Descarto los aa's q no afectan a esta cavidad\n",
    "reindex_tfo_corto = vtor_tfo_corto .!= 0\n",
    "vtor_tfo_corto = vtor_tfo_corto[reindex_tfo_corto]\n",
    "vtor_tfo_corto = vtor_tfo_corto / norm(vtor_tfo_corto)\n",
    "\n",
    "vtor_tfo_largo = readdlm(\"/home/german/labo/16/hemo/cavities/displ/vtores/vtor_tfo_largo_0008\")\n",
    "# Descarto los aa's de los extremos\n",
    "vtor_tfo_largo = vtor_tfo_largo[index_tfo_3]\n",
    "# Descarto los aa's q no afectan a esta cavidad\n",
    "reindex_tfo_largo = vtor_tfo_largo .!= 0\n",
    "vtor_tfo_largo = vtor_tfo_largo[reindex_tfo_largo]\n",
    "vtor_tfo_largo = vtor_tfo_largo / norm(vtor_tfo_largo)\n",
    "\n",
    "vtor_tfo_portal = readdlm(\"/home/german/labo/16/hemo/cavities/displ/vtores/vtor_tfo_portal_0008\");\n",
    "# Descarto los aa's de los extremos\n",
    "vtor_tfo_portal = vtor_tfo_portal[index_tfo_3]\n",
    "# Descarto los aa's q no afectan a esta cavidad\n",
    "reindex_tfo_portal = vtor_tfo_portal .!= 0\n",
    "vtor_tfo_portal = vtor_tfo_portal[reindex_tfo_portal]\n",
    "vtor_tfo_portal = vtor_tfo_portal / norm(vtor_tfo_portal);\n",
    "\n",
    "# Ahora subsetteo también a los modos\n",
    "modes_tfo_corto = modes_tfo[reindex_tfo_corto, :]\n",
    "modes_tfo_corto = mapslices(x -> x/norm(x), modes_tfo_corto, 1)\n",
    "\n",
    "modes_tfo_largo = modes_tfo[reindex_tfo_largo, :]\n",
    "modes_tfo_largo = mapslices(x -> x/norm(x), modes_tfo_largo, 1)\n",
    "\n",
    "modes_tfo_portal = modes_tfo[reindex_tfo_portal, :]\n",
    "modes_tfo_portal = mapslices(x -> x/norm(x), modes_tfo_portal, 1);"
   ]
  },
  {
   "cell_type": "code",
   "execution_count": 5,
   "metadata": {
    "collapsed": false
   },
   "outputs": [
    {
     "ename": "LoadError",
     "evalue": "LoadError: UndefVarError: aa3 not defined\nwhile loading In[5], in expression starting on line 2",
     "output_type": "error",
     "traceback": [
      "LoadError: UndefVarError: aa3 not defined\nwhile loading In[5], in expression starting on line 2",
      ""
     ]
    }
   ],
   "source": [
    "# Leo los modos de PCA\n",
    "modes_tfo, evals_tfo = read_ptraj_modes(\"/home/german/labo/16/hemo/run/tfo/modes_tfo\", aa3);\n",
    "\n",
    "# Leo los vectores gradiente de c/ cavidad\n",
    "vtor_tfo_corto = readdlm(\"/home/german/labo/16/hemo/cavities/displ/vtores/vtor_tfo_corto_0008\")\n",
    "vtor_tfo_corto = vtor_tfo_corto[index_tfo_3]\n",
    "vtor_tfo_corto = vtor_tfo_corto / sum(vtor_tfo_corto.^2)\n",
    "\n",
    "vtor_tfo_largo = readdlm(\"/home/german/labo/16/hemo/cavities/displ/vtores/vtor_tfo_largo_0008\")\n",
    "vtor_tfo_largo = vtor_tfo_largo[index_tfo_3]\n",
    "vtor_tfo_largo = vtor_tfo_largo / sum(vtor_tfo_largo.^2)\n",
    "\n",
    "vtor_tfo_portal = readdlm(\"/home/german/labo/16/hemo/cavities/displ/vtores/vtor_tfo_portal_0008\");\n",
    "vtor_tfo_portal = vtor_tfo_portal[index_tfo_3]\n",
    "vtor_tfo_portal = vtor_tfo_portal / sum(vtor_tfo_portal.^2);"
   ]
  },
  {
   "cell_type": "code",
   "execution_count": 6,
   "metadata": {
    "collapsed": false
   },
   "outputs": [
    {
     "ename": "LoadError",
     "evalue": "LoadError: UndefVarError: aa36 not defined\nwhile loading In[6], in expression starting on line 1",
     "output_type": "error",
     "traceback": [
      "LoadError: UndefVarError: aa36 not defined\nwhile loading In[6], in expression starting on line 1",
      "",
      " in anonymous at no file"
     ]
    }
   ],
   "source": [
    "for i=1:aa36\n",
    "    pjtion_corto_tfo[i] = (dot(modes_tfo_corto[:, i], vtor_tfo_corto))^2\n",
    "    pjtion_largo_tfo[i] = (dot(modes_tfo_largo[:, i], vtor_tfo_largo))^2\n",
    "    pjtion_portal_tfo[i] = (dot(modes_tfo_portal[:, i], vtor_tfo_portal))^2\n",
    "end\n",
    "df_pjtion_corto_tfo = DataFrame(projection = pjtion_corto_tfo);\n",
    "df_pjtion_largo_tfo = DataFrame(projection = pjtion_largo_tfo);\n",
    "df_pjtion_portal_tfo = DataFrame(projection = pjtion_portal_tfo);\n"
   ]
  },
  {
   "cell_type": "code",
   "execution_count": 7,
   "metadata": {
    "collapsed": false
   },
   "outputs": [
    {
     "ename": "LoadError",
     "evalue": "LoadError: UndefVarError: df_pjtion_corto_tfo not defined\nwhile loading In[7], in expression starting on line 2",
     "output_type": "error",
     "traceback": [
      "LoadError: UndefVarError: df_pjtion_corto_tfo not defined\nwhile loading In[7], in expression starting on line 2",
      ""
     ]
    }
   ],
   "source": [
    "# Plot!\n",
    "plot(df_pjtion_corto_tfo,\n",
    "y=\"projection\",  \n",
    "Geom.bar(position=:dodge), \n",
    "Guide.Title(\"Projection values de tfo corto\"),\n",
    "Coord.Cartesian(xmin=1, xmax=400))\n",
    "#Guide.xticks(ticks = collect(1:1:11), orientation=:horizontal),\n",
    "#Guide.yticks(ticks = collect(0.0:0.1:0.3), orientation=:horizontal), \n",
    "#Guide.xlabel(\"SSE participation number\"), Guide.ylabel(\"relative probability\"))"
   ]
  },
  {
   "cell_type": "code",
   "execution_count": 8,
   "metadata": {
    "collapsed": false
   },
   "outputs": [
    {
     "ename": "LoadError",
     "evalue": "LoadError: UndefVarError: df_pjtion_largo_tfo not defined\nwhile loading In[8], in expression starting on line 2",
     "output_type": "error",
     "traceback": [
      "LoadError: UndefVarError: df_pjtion_largo_tfo not defined\nwhile loading In[8], in expression starting on line 2",
      ""
     ]
    }
   ],
   "source": [
    "# Plot!\n",
    "plot(df_pjtion_largo_tfo,\n",
    "y=\"projection\",  \n",
    "Geom.bar(position=:dodge), \n",
    "Guide.Title(\"Projection values de tfo largo\"),\n",
    "Coord.Cartesian(xmin=1, xmax=400))\n",
    "#Guide.xticks(ticks = collect(1:1:11), orientation=:horizontal),\n",
    "#Guide.yticks(ticks = collect(0.0:0.1:0.3), orientation=:horizontal), \n",
    "#Guide.xlabel(\"SSE participation number\"), Guide.ylabel(\"relative probability\"))"
   ]
  },
  {
   "cell_type": "code",
   "execution_count": 9,
   "metadata": {
    "collapsed": false
   },
   "outputs": [
    {
     "ename": "LoadError",
     "evalue": "LoadError: UndefVarError: df_pjtion_portal_tfo not defined\nwhile loading In[9], in expression starting on line 2",
     "output_type": "error",
     "traceback": [
      "LoadError: UndefVarError: df_pjtion_portal_tfo not defined\nwhile loading In[9], in expression starting on line 2",
      ""
     ]
    }
   ],
   "source": [
    "# Plot!\n",
    "plot(df_pjtion_portal_tfo,\n",
    "y=\"projection\",  \n",
    "Geom.bar(position=:dodge), \n",
    "Guide.Title(\"Projection values de tfo portal\"),\n",
    "Coord.Cartesian(xmin=1, xmax=400))\n",
    "#Guide.xticks(ticks = collect(1:1:11), orientation=:horizontal),\n",
    "#Guide.yticks(ticks = collect(0.0:0.1:0.3), orientation=:horizontal), \n",
    "#Guide.xlabel(\"SSE participation number\"), Guide.ylabel(\"relative probability\"))"
   ]
  },
  {
   "cell_type": "code",
   "execution_count": null,
   "metadata": {
    "collapsed": true
   },
   "outputs": [],
   "source": []
  },
  {
   "cell_type": "code",
   "execution_count": null,
   "metadata": {
    "collapsed": true
   },
   "outputs": [],
   "source": []
  },
  {
   "cell_type": "code",
   "execution_count": null,
   "metadata": {
    "collapsed": true
   },
   "outputs": [],
   "source": []
  },
  {
   "cell_type": "code",
   "execution_count": null,
   "metadata": {
    "collapsed": true
   },
   "outputs": [],
   "source": []
  }
 ],
 "metadata": {
  "kernelspec": {
   "display_name": "Julia 0.4.2",
   "language": "julia",
   "name": "julia-0.4"
  },
  "language_info": {
   "file_extension": ".jl",
   "mimetype": "application/julia",
   "name": "julia",
   "version": "0.4.5"
  }
 },
 "nbformat": 4,
 "nbformat_minor": 0
}
