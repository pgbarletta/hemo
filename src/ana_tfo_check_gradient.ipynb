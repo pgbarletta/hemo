{
 "cells": [
  {
   "cell_type": "markdown",
   "metadata": {},
   "source": [
    "# Acá hago pdtos escalares entre los gradientes con distintos desplazamientos q obtuve"
   ]
  },
  {
   "cell_type": "markdown",
   "metadata": {},
   "source": [
    "## Vectores gradiente de modos"
   ]
  },
  {
   "cell_type": "code",
   "execution_count": 1,
   "metadata": {
    "collapsed": false
   },
   "outputs": [],
   "source": [
    "using DataFrames\n",
    "using Distributions"
   ]
  },
  {
   "cell_type": "code",
   "execution_count": 2,
   "metadata": {
    "collapsed": false,
    "scrolled": true
   },
   "outputs": [],
   "source": [
    "out_vec_1 = string(\"/home/german/labo/16/hemo/cavities/ana_mode_gradient/vtores/\", 1,\"_vec_pocket_tfo_corto\")\n",
    "out_vec_2 = string(\"/home/german/labo/16/hemo/cavities/ana_mode_gradient/vtores/\", 3,\"_vec_pocket_tfo_corto\")\n",
    "out_vec_3 = string(\"/home/german/labo/16/hemo/cavities/ana_mode_gradient/vtores/\", 5,\"_vec_pocket_tfo_corto\")\n",
    "out_vec_4 = string(\"/home/german/labo/16/hemo/cavities/ana_mode_gradient/vtores/\", 8,\"_vec_pocket_tfo_corto\")\n",
    "\n",
    "df_vec_pocket_corto_1 = readtable(out_vec_1)\n",
    "df_vec_pocket_corto_3 = readtable(out_vec_2)\n",
    "df_vec_pocket_corto_5 = readtable(out_vec_3)\n",
    "df_vec_pocket_corto_8 = readtable(out_vec_4);\n",
    "\n",
    "mt_corto = [df_vec_pocket_corto_1[:, 1]  df_vec_pocket_corto_3[:, 1] df_vec_pocket_corto_5[:, 1] df_vec_pocket_corto_8[:, 1]]\n",
    "\n",
    "out_vec_1 = string(\"/home/german/labo/16/hemo/cavities/ana_mode_gradient/vtores/\", 1,\"_vec_pocket_tfo_portal\")\n",
    "out_vec_2 = string(\"/home/german/labo/16/hemo/cavities/ana_mode_gradient/vtores/\", 3,\"_vec_pocket_tfo_portal\")\n",
    "out_vec_3 = string(\"/home/german/labo/16/hemo/cavities/ana_mode_gradient/vtores/\", 5,\"_vec_pocket_tfo_portal\")\n",
    "out_vec_4 = string(\"/home/german/labo/16/hemo/cavities/ana_mode_gradient/vtores/\", 8,\"_vec_pocket_tfo_portal\")\n",
    "\n",
    "df_vec_pocket_portal_1 = readtable(out_vec_1)\n",
    "df_vec_pocket_portal_3 = readtable(out_vec_2)\n",
    "df_vec_pocket_portal_5 = readtable(out_vec_3)\n",
    "df_vec_pocket_portal_8 = readtable(out_vec_4);\n",
    "\n",
    "mt_portal = [df_vec_pocket_portal_1[:, 1]  df_vec_pocket_portal_3[:, 1] df_vec_pocket_portal_5[:, 1] df_vec_pocket_portal_8[:, 1]]\n",
    "\n",
    "out_vec_1 = string(\"/home/german/labo/16/hemo/cavities/ana_mode_gradient/vtores/\", 1,\"_vec_pocket_tfo_largo\")\n",
    "out_vec_2 = string(\"/home/german/labo/16/hemo/cavities/ana_mode_gradient/vtores/\", 3,\"_vec_pocket_tfo_largo\")\n",
    "out_vec_3 = string(\"/home/german/labo/16/hemo/cavities/ana_mode_gradient/vtores/\", 5,\"_vec_pocket_tfo_largo\")\n",
    "out_vec_4 = string(\"/home/german/labo/16/hemo/cavities/ana_mode_gradient/vtores/\", 8,\"_vec_pocket_tfo_largo\")\n",
    "\n",
    "df_vec_pocket_largo_1 = readtable(out_vec_1)\n",
    "df_vec_pocket_largo_3 = readtable(out_vec_2)\n",
    "df_vec_pocket_largo_5 = readtable(out_vec_3)\n",
    "df_vec_pocket_largo_8 = readtable(out_vec_4);\n",
    "\n",
    "mt_largo = [df_vec_pocket_largo_1[:, 1]  df_vec_pocket_largo_3[:, 1] df_vec_pocket_largo_5[:, 1] df_vec_pocket_largo_8[:, 1]];"
   ]
  },
  {
   "cell_type": "code",
   "execution_count": 3,
   "metadata": {
    "collapsed": false,
    "scrolled": true
   },
   "outputs": [
    {
     "data": {
      "text/plain": [
       "4x4 DataArrays.DataArray{Float64,2}:\n",
       " 1.0       0.780657  0.705506  0.625324\n",
       " 0.780657  1.0       0.95632   0.877117\n",
       " 0.705506  0.95632   1.0       0.945847\n",
       " 0.625324  0.877117  0.945847  1.0     "
      ]
     },
     "execution_count": 3,
     "metadata": {},
     "output_type": "execute_result"
    }
   ],
   "source": [
    "transpose(mt_corto) * mt_corto"
   ]
  },
  {
   "cell_type": "code",
   "execution_count": 4,
   "metadata": {
    "collapsed": false,
    "scrolled": true
   },
   "outputs": [
    {
     "data": {
      "text/plain": [
       "4x4 DataArrays.DataArray{Float64,2}:\n",
       " 1.0       0.647786  0.61648   0.571938\n",
       " 0.647786  1.0       0.806308  0.657048\n",
       " 0.61648   0.806308  1.0       0.845453\n",
       " 0.571938  0.657048  0.845453  1.0     "
      ]
     },
     "execution_count": 4,
     "metadata": {},
     "output_type": "execute_result"
    }
   ],
   "source": [
    "transpose(mt_portal) * mt_portal"
   ]
  },
  {
   "cell_type": "code",
   "execution_count": 5,
   "metadata": {
    "collapsed": false,
    "scrolled": true
   },
   "outputs": [
    {
     "data": {
      "text/plain": [
       "4x4 DataArrays.DataArray{Float64,2}:\n",
       " 1.0       0.731165  0.668149  0.59028 \n",
       " 0.731165  1.0       0.862177  0.774474\n",
       " 0.668149  0.862177  1.0       0.906488\n",
       " 0.59028   0.774474  0.906488  1.0     "
      ]
     },
     "execution_count": 5,
     "metadata": {},
     "output_type": "execute_result"
    }
   ],
   "source": [
    "transpose(mt_largo) * mt_largo"
   ]
  },
  {
   "cell_type": "markdown",
   "metadata": {},
   "source": [
    "## Vectores gradiente de coordenadas"
   ]
  },
  {
   "cell_type": "code",
   "execution_count": 6,
   "metadata": {
    "collapsed": true
   },
   "outputs": [],
   "source": [
    "out_vec_1 = string(\"/home/german/labo/16/hemo/cavities/ana_cart_gradient/vtores/\", 1,\"_vec_pocket_tfo_corto\")\n",
    "out_vec_2 = string(\"/home/german/labo/16/hemo/cavities/ana_cart_gradient/vtores/\", 3,\"_vec_pocket_tfo_corto\")\n",
    "out_vec_3 = string(\"/home/german/labo/16/hemo/cavities/ana_cart_gradient/vtores/\", 5,\"_vec_pocket_tfo_corto\")\n",
    "out_vec_4 = string(\"/home/german/labo/16/hemo/cavities/ana_cart_gradient/vtores/\", 8,\"_vec_pocket_tfo_corto\")\n",
    "\n",
    "df_vec_pocket_corto_1 = readtable(out_vec_1)\n",
    "df_vec_pocket_corto_3 = readtable(out_vec_2)\n",
    "df_vec_pocket_corto_5 = readtable(out_vec_3)\n",
    "df_vec_pocket_corto_8 = readtable(out_vec_4);\n",
    "\n",
    "mt_corto = [df_vec_pocket_corto_1[:, 1]  df_vec_pocket_corto_3[:, 1] df_vec_pocket_corto_5[:, 1] df_vec_pocket_corto_8[:, 1]]\n",
    "\n",
    "out_vec_1 = string(\"/home/german/labo/16/hemo/cavities/ana_cart_gradient/vtores/\", 1,\"_vec_pocket_tfo_portal\")\n",
    "out_vec_2 = string(\"/home/german/labo/16/hemo/cavities/ana_cart_gradient/vtores/\", 3,\"_vec_pocket_tfo_portal\")\n",
    "out_vec_3 = string(\"/home/german/labo/16/hemo/cavities/ana_cart_gradient/vtores/\", 5,\"_vec_pocket_tfo_portal\")\n",
    "out_vec_4 = string(\"/home/german/labo/16/hemo/cavities/ana_cart_gradient/vtores/\", 8,\"_vec_pocket_tfo_portal\")\n",
    "\n",
    "df_vec_pocket_portal_1 = readtable(out_vec_1)\n",
    "df_vec_pocket_portal_3 = readtable(out_vec_2)\n",
    "df_vec_pocket_portal_5 = readtable(out_vec_3)\n",
    "df_vec_pocket_portal_8 = readtable(out_vec_4);\n",
    "\n",
    "mt_portal = [df_vec_pocket_portal_1[:, 1]  df_vec_pocket_portal_3[:, 1] df_vec_pocket_portal_5[:, 1] df_vec_pocket_portal_8[:, 1]]\n",
    "\n",
    "out_vec_1 = string(\"/home/german/labo/16/hemo/cavities/ana_cart_gradient/vtores/\", 1,\"_vec_pocket_tfo_largo\")\n",
    "out_vec_2 = string(\"/home/german/labo/16/hemo/cavities/ana_cart_gradient/vtores/\", 3,\"_vec_pocket_tfo_largo\")\n",
    "out_vec_3 = string(\"/home/german/labo/16/hemo/cavities/ana_cart_gradient/vtores/\", 5,\"_vec_pocket_tfo_largo\")\n",
    "out_vec_4 = string(\"/home/german/labo/16/hemo/cavities/ana_cart_gradient/vtores/\", 8,\"_vec_pocket_tfo_largo\")\n",
    "\n",
    "df_vec_pocket_largo_1 = readtable(out_vec_1)\n",
    "df_vec_pocket_largo_3 = readtable(out_vec_2)\n",
    "df_vec_pocket_largo_5 = readtable(out_vec_3)\n",
    "df_vec_pocket_largo_8 = readtable(out_vec_4);\n",
    "\n",
    "mt_largo = [df_vec_pocket_largo_1[:, 1]  df_vec_pocket_largo_3[:, 1] df_vec_pocket_largo_5[:, 1] df_vec_pocket_largo_8[:, 1]];"
   ]
  },
  {
   "cell_type": "code",
   "execution_count": 7,
   "metadata": {
    "collapsed": false,
    "scrolled": true
   },
   "outputs": [
    {
     "data": {
      "text/plain": [
       "4x4 DataArrays.DataArray{Float64,2}:\n",
       " 1.0       0.857319  0.889989  0.680221\n",
       " 0.857319  1.0       0.905005  0.764629\n",
       " 0.889989  0.905005  1.0       0.800275\n",
       " 0.680221  0.764629  0.800275  1.0     "
      ]
     },
     "execution_count": 7,
     "metadata": {},
     "output_type": "execute_result"
    }
   ],
   "source": [
    "transpose(mt_corto) * mt_corto"
   ]
  },
  {
   "cell_type": "code",
   "execution_count": 8,
   "metadata": {
    "collapsed": false,
    "scrolled": true
   },
   "outputs": [
    {
     "data": {
      "text/plain": [
       "4x4 DataArrays.DataArray{Float64,2}:\n",
       " 1.0       0.525553  0.480316  0.472977\n",
       " 0.525553  1.0       0.75482   0.508977\n",
       " 0.480316  0.75482   1.0       0.88303 \n",
       " 0.472977  0.508977  0.88303   1.0     "
      ]
     },
     "execution_count": 8,
     "metadata": {},
     "output_type": "execute_result"
    }
   ],
   "source": [
    "transpose(mt_portal) * mt_portal"
   ]
  },
  {
   "cell_type": "code",
   "execution_count": 9,
   "metadata": {
    "collapsed": false,
    "scrolled": true
   },
   "outputs": [
    {
     "data": {
      "text/plain": [
       "4x4 DataArrays.DataArray{Float64,2}:\n",
       " 1.0       0.712507  0.490311  0.501344\n",
       " 0.712507  1.0       0.577806  0.584265\n",
       " 0.490311  0.577806  1.0       0.720916\n",
       " 0.501344  0.584265  0.720916  1.0     "
      ]
     },
     "execution_count": 9,
     "metadata": {},
     "output_type": "execute_result"
    }
   ],
   "source": [
    "transpose(mt_largo) * mt_largo"
   ]
  },
  {
   "cell_type": "markdown",
   "metadata": {
    "collapsed": true
   },
   "source": [
    "## Ahora desplazo las estructuras a lo largo de los vectores gradiente"
   ]
  },
  {
   "cell_type": "code",
   "execution_count": 1,
   "metadata": {
    "collapsed": true
   },
   "outputs": [],
   "source": [
    "# Leo el pdb\n",
    "# Guardo los pdbs desplazados en los gradientes\n",
    "n1 = displaceAA(pdb, vec_pocket_1, 30)\n",
    "write(\"/home/german/labo/16/hemo/cavities/ana_cart_gradient/pymol/tfo_corto_05.pdb\", n1, PDBFile)\n",
    "n2 = displaceAA(pdb, vec_pocket_2, 30)\n",
    "write(\"/home/german/labo/16/hemo/cavities/ana_cart_gradient/pymol/tfo_portal_05.pdb\", n2, PDBFile)\n",
    "n3 = displaceAA(pdb, vec_pocket_3, 30)\n",
    "write(\"/home/german/labo/16/hemo/cavities/ana_cart_gradient/pymol/tfo_largo_05.pdb\", n3, PDBFile)"
   ]
  },
  {
   "cell_type": "code",
   "execution_count": null,
   "metadata": {
    "collapsed": true
   },
   "outputs": [],
   "source": []
  }
 ],
 "metadata": {
  "anaconda-cloud": {},
  "kernelspec": {
   "display_name": "Julia 0.4.6",
   "language": "julia",
   "name": "julia-0.4"
  },
  "language_info": {
   "file_extension": ".jl",
   "mimetype": "application/julia",
   "name": "julia",
   "version": "0.4.6"
  }
 },
 "nbformat": 4,
 "nbformat_minor": 0
}
