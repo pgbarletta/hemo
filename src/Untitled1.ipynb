{
 "cells": [
  {
   "cell_type": "code",
   "execution_count": 3,
   "metadata": {
    "collapsed": true
   },
   "outputs": [],
   "source": [
    "using DataFrames\n",
    "using Chemfiles\n",
    "using Gadfly\n",
    "using Cairo\n",
    "using Distributions\n",
    "using Bio\n",
    "using MIToS.PDB\n",
    "set_default_plot_size(28cm, 10cm)"
   ]
  },
  {
   "cell_type": "code",
   "execution_count": 4,
   "metadata": {
    "collapsed": false
   },
   "outputs": [
    {
     "data": {
      "text/plain": [
       "8-element Array{Int64,1}:\n",
       " 1\n",
       " 1\n",
       " 1\n",
       " 1\n",
       " 1\n",
       " 1\n",
       " 1\n",
       " 1"
      ]
     },
     "execution_count": 4,
     "metadata": {},
     "output_type": "execute_result"
    }
   ],
   "source": [
    "mod_pdb = read(\"/home/german/labo/16/hemo/cavities/2displ/bu/mto.pdb\", PDBFile, group=\"ATOM\");\n",
    "aa_index = collect(1:120)\n",
    "vector1 = repeat([0], inner=[360])\n",
    "vector1[3:10] = repeat([1], inner=[8])"
   ]
  },
  {
   "cell_type": "code",
   "execution_count": 8,
   "metadata": {
    "collapsed": false
   },
   "outputs": [],
   "source": [
    "\n",
    "    \n",
    "vector1 = repeat([0], inner=[360])\n",
    "vector1[3:10] = repeat([1], inner=[8])\n",
    "    multiplier = 40\n",
    "    \n",
    "   \n"
   ]
  },
  {
   "cell_type": "code",
   "execution_count": 7,
   "metadata": {
    "collapsed": false
   },
   "outputs": [
    {
     "data": {
      "text/plain": [
       "120x3 Array{Int64,2}:\n",
       " 0  0  1\n",
       " 1  1  1\n",
       " 1  1  1\n",
       " 1  0  0\n",
       " 0  0  0\n",
       " 0  0  0\n",
       " 0  0  0\n",
       " 0  0  0\n",
       " 0  0  0\n",
       " 0  0  0\n",
       " 0  0  0\n",
       " 0  0  0\n",
       " 0  0  0\n",
       " ⋮      \n",
       " 0  0  0\n",
       " 0  0  0\n",
       " 0  0  0\n",
       " 0  0  0\n",
       " 0  0  0\n",
       " 0  0  0\n",
       " 0  0  0\n",
       " 0  0  0\n",
       " 0  0  0\n",
       " 0  0  0\n",
       " 0  0  0\n",
       " 0  0  0"
      ]
     },
     "execution_count": 7,
     "metadata": {},
     "output_type": "execute_result"
    }
   ],
   "source": [
    "vector"
   ]
  },
  {
   "cell_type": "code",
   "execution_count": 15,
   "metadata": {
    "collapsed": false,
    "scrolled": true
   },
   "outputs": [
    {
     "data": {
      "text/plain": [
       "PDBResidue:\n",
       "\tid::PDBResidueIdentifier\n",
       "\t\t    PDBe_number          number            name           group           model           chain\n",
       "\t\t             \"\"             \"4\"           \"ALA\"          \"ATOM\"             \"1\"             \" \"\n",
       "\tatoms::Vector{PDBAtom}\tlength: 10\n",
       "\t\t                                                  coordinates            atom         element       occupancy               B\n",
       "\t\t1:                          Coordinates(32.501,46.695,42.822)             \"N\"             \"N\"             1.0          \"0.00\"\n",
       "\t\t                                                  coordinates            atom         element       occupancy               B\n",
       "\t\t2:                          Coordinates(32.743,45.882,43.115)             \"H\"             \"H\"             1.0          \"0.00\"\n",
       "\t\t                                                  coordinates            atom         element       occupancy               B\n",
       "\t\t3:                          Coordinates(33.509,47.506,42.261)            \"CA\"             \"C\"             1.0          \"0.00\"\n",
       "\t\t                                                  coordinates            atom         element       occupancy               B\n",
       "\t\t4:                          Coordinates(33.374,48.474,42.594)            \"HA\"             \"H\"             1.0          \"0.00\"\n",
       "\t\t                                                  coordinates            atom         element       occupancy               B\n",
       "\t\t5:                           Coordinates(34.84,47.058,42.744)            \"CB\"             \"C\"             1.0          \"0.00\"\n",
       "\t\t                                                  coordinates            atom         element       occupancy               B\n",
       "\t\t6:                          Coordinates(35.166,46.961,42.862)           \"HB1\"             \"H\"             1.0          \"0.00\"\n",
       "\t\t                                                  coordinates            atom         element       occupancy               B\n",
       "\t\t7:                          Coordinates(35.167,46.952,42.851)           \"HB2\"             \"H\"             1.0          \"0.00\"\n",
       "\t\t                                                  coordinates            atom         element       occupancy               B\n",
       "\t\t8:                          Coordinates(35.162,46.948,42.864)           \"HB3\"             \"H\"             1.0          \"0.00\"\n",
       "\t\t                                                  coordinates            atom         element       occupancy               B\n",
       "\t\t9:                          Coordinates(33.451,47.557,40.794)             \"C\"             \"C\"             1.0          \"0.00\"\n",
       "\t\t                                                  coordinates            atom         element       occupancy               B\n",
       "\t\t10:                         Coordinates(33.853,48.487,40.242)             \"O\"             \"O\"             1.0          \"0.00\"\n"
      ]
     },
     "execution_count": 15,
     "metadata": {},
     "output_type": "execute_result"
    }
   ],
   "source": [
    "mod_pdb[4]"
   ]
  },
  {
   "cell_type": "code",
   "execution_count": 16,
   "metadata": {
    "collapsed": false,
    "scrolled": true
   },
   "outputs": [
    {
     "data": {
      "text/plain": [
       "PDBResidue:\n",
       "\tid::PDBResidueIdentifier\n",
       "\t\t    PDBe_number          number            name           group           model           chain\n",
       "\t\t             \"\"             \"4\"           \"ALA\"          \"ATOM\"             \"1\"             \" \"\n",
       "\tatoms::Vector{PDBAtom}\tlength: 10\n",
       "\t\t                                                  coordinates            atom         element       occupancy               B\n",
       "\t\t1:                          Coordinates(72.501,46.695,42.822)             \"N\"             \"N\"             1.0          \"0.00\"\n",
       "\t\t                                                  coordinates            atom         element       occupancy               B\n",
       "\t\t2:                          Coordinates(72.743,45.882,43.115)             \"H\"             \"H\"             1.0          \"0.00\"\n",
       "\t\t                                                  coordinates            atom         element       occupancy               B\n",
       "\t\t3:                          Coordinates(73.509,47.506,42.261)            \"CA\"             \"C\"             1.0          \"0.00\"\n",
       "\t\t                                                  coordinates            atom         element       occupancy               B\n",
       "\t\t4:                          Coordinates(73.374,48.474,42.594)            \"HA\"             \"H\"             1.0          \"0.00\"\n",
       "\t\t                                                  coordinates            atom         element       occupancy               B\n",
       "\t\t5:                           Coordinates(74.84,47.058,42.744)            \"CB\"             \"C\"             1.0          \"0.00\"\n",
       "\t\t                                                  coordinates            atom         element       occupancy               B\n",
       "\t\t6:                          Coordinates(75.166,46.961,42.862)           \"HB1\"             \"H\"             1.0          \"0.00\"\n",
       "\t\t                                                  coordinates            atom         element       occupancy               B\n",
       "\t\t7:                          Coordinates(75.167,46.952,42.851)           \"HB2\"             \"H\"             1.0          \"0.00\"\n",
       "\t\t                                                  coordinates            atom         element       occupancy               B\n",
       "\t\t8:                          Coordinates(75.162,46.948,42.864)           \"HB3\"             \"H\"             1.0          \"0.00\"\n",
       "\t\t                                                  coordinates            atom         element       occupancy               B\n",
       "\t\t9:                          Coordinates(73.451,47.557,40.794)             \"C\"             \"C\"             1.0          \"0.00\"\n",
       "\t\t                                                  coordinates            atom         element       occupancy               B\n",
       "\t\t10:              Coordinates(73.85300000000001,48.487,40.242)             \"O\"             \"O\"             1.0          \"0.00\"\n"
      ]
     },
     "execution_count": 16,
     "metadata": {},
     "output_type": "execute_result"
    }
   ],
   "source": [
    "pdb[4]"
   ]
  },
  {
   "cell_type": "code",
   "execution_count": null,
   "metadata": {
    "collapsed": false
   },
   "outputs": [],
   "source": [
    "as = Array{Bool}(1)\n",
    "for i=1:120\n",
    "    push!(as, mod_pdb[i] != pdb[i])\n",
    "end\n",
    "shift!(as)\n",
    "as\n",
    "aa_index[as]"
   ]
  },
  {
   "cell_type": "code",
   "execution_count": null,
   "metadata": {
    "collapsed": false
   },
   "outputs": [],
   "source": []
  },
  {
   "cell_type": "code",
   "execution_count": null,
   "metadata": {
    "collapsed": true
   },
   "outputs": [],
   "source": []
  }
 ],
 "metadata": {
  "kernelspec": {
   "display_name": "Julia 0.4.5",
   "language": "julia",
   "name": "julia-0.4"
  },
  "language_info": {
   "file_extension": ".jl",
   "mimetype": "application/julia",
   "name": "julia",
   "version": "0.4.5"
  }
 },
 "nbformat": 4,
 "nbformat_minor": 0
}
