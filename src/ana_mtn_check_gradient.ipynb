{
 "cells": [
  {
   "cell_type": "markdown",
   "metadata": {},
   "source": [
    "# Acá hago pdtos escalares entre los gradientes con distintos desplazamientos q obtuve"
   ]
  },
  {
   "cell_type": "markdown",
   "metadata": {},
   "source": [
    "## Vectores gradiente de modos"
   ]
  },
  {
   "cell_type": "code",
   "execution_count": 1,
   "metadata": {
    "collapsed": false
   },
   "outputs": [],
   "source": [
    "using DataFrames\n",
    "using Distributions"
   ]
  },
  {
   "cell_type": "code",
   "execution_count": 2,
   "metadata": {
    "collapsed": false,
    "scrolled": true
   },
   "outputs": [],
   "source": [
    "out_vec_1 = string(\"/home/german/labo/16/hemo/cavities/ana_mode_gradient/vtores/\", 1,\"_vec_pocket_mtn_corto\")\n",
    "out_vec_2 = string(\"/home/german/labo/16/hemo/cavities/ana_mode_gradient/vtores/\", 3,\"_vec_pocket_mtn_corto\")\n",
    "out_vec_3 = string(\"/home/german/labo/16/hemo/cavities/ana_mode_gradient/vtores/\", 5,\"_vec_pocket_mtn_corto\")\n",
    "out_vec_4 = string(\"/home/german/labo/16/hemo/cavities/ana_mode_gradient/vtores/\", 8,\"_vec_pocket_mtn_corto\")\n",
    "\n",
    "df_vec_pocket_corto_1 = readtable(out_vec_1)\n",
    "df_vec_pocket_corto_3 = readtable(out_vec_2)\n",
    "df_vec_pocket_corto_5 = readtable(out_vec_3)\n",
    "df_vec_pocket_corto_8 = readtable(out_vec_4);\n",
    "\n",
    "mt_corto = [df_vec_pocket_corto_1[:, 1]  df_vec_pocket_corto_3[:, 1] df_vec_pocket_corto_5[:, 1] df_vec_pocket_corto_8[:, 1]]\n",
    "\n",
    "out_vec_1 = string(\"/home/german/labo/16/hemo/cavities/ana_mode_gradient/vtores/\", 1,\"_vec_pocket_mtn_portal\")\n",
    "out_vec_2 = string(\"/home/german/labo/16/hemo/cavities/ana_mode_gradient/vtores/\", 3,\"_vec_pocket_mtn_portal\")\n",
    "out_vec_3 = string(\"/home/german/labo/16/hemo/cavities/ana_mode_gradient/vtores/\", 5,\"_vec_pocket_mtn_portal\")\n",
    "out_vec_4 = string(\"/home/german/labo/16/hemo/cavities/ana_mode_gradient/vtores/\", 8,\"_vec_pocket_mtn_portal\")\n",
    "\n",
    "df_vec_pocket_portal_1 = readtable(out_vec_1)\n",
    "df_vec_pocket_portal_3 = readtable(out_vec_2)\n",
    "df_vec_pocket_portal_5 = readtable(out_vec_3)\n",
    "df_vec_pocket_portal_8 = readtable(out_vec_4);\n",
    "\n",
    "mt_portal = [df_vec_pocket_portal_1[:, 1]  df_vec_pocket_portal_3[:, 1] df_vec_pocket_portal_5[:, 1] df_vec_pocket_portal_8[:, 1]]\n",
    "\n",
    "out_vec_1 = string(\"/home/german/labo/16/hemo/cavities/ana_mode_gradient/vtores/\", 1,\"_vec_pocket_mtn_largo\")\n",
    "out_vec_2 = string(\"/home/german/labo/16/hemo/cavities/ana_mode_gradient/vtores/\", 3,\"_vec_pocket_mtn_largo\")\n",
    "out_vec_3 = string(\"/home/german/labo/16/hemo/cavities/ana_mode_gradient/vtores/\", 5,\"_vec_pocket_mtn_largo\")\n",
    "out_vec_4 = string(\"/home/german/labo/16/hemo/cavities/ana_mode_gradient/vtores/\", 8,\"_vec_pocket_mtn_largo\")\n",
    "\n",
    "df_vec_pocket_largo_1 = readtable(out_vec_1)\n",
    "df_vec_pocket_largo_3 = readtable(out_vec_2)\n",
    "df_vec_pocket_largo_5 = readtable(out_vec_3)\n",
    "df_vec_pocket_largo_8 = readtable(out_vec_4);\n",
    "\n",
    "mt_largo = [df_vec_pocket_largo_1[:, 1]  df_vec_pocket_largo_3[:, 1] df_vec_pocket_largo_5[:, 1] df_vec_pocket_largo_8[:, 1]];"
   ]
  },
  {
   "cell_type": "code",
   "execution_count": 3,
   "metadata": {
    "collapsed": false,
    "scrolled": true
   },
   "outputs": [
    {
     "data": {
      "text/plain": [
       "4x4 DataArrays.DataArray{Float64,2}:\n",
       " 1.0       0.878137  0.787252  0.60946 \n",
       " 0.878137  1.0       0.909261  0.775297\n",
       " 0.787252  0.909261  1.0       0.921066\n",
       " 0.60946   0.775297  0.921066  1.0     "
      ]
     },
     "execution_count": 3,
     "metadata": {},
     "output_type": "execute_result"
    }
   ],
   "source": [
    "transpose(mt_corto) * mt_corto"
   ]
  },
  {
   "cell_type": "code",
   "execution_count": 4,
   "metadata": {
    "collapsed": false,
    "scrolled": true
   },
   "outputs": [
    {
     "data": {
      "text/plain": [
       "4x4 DataArrays.DataArray{Float64,2}:\n",
       " 1.0       0.84264   0.717391  0.593052\n",
       " 0.84264   1.0       0.778584  0.647331\n",
       " 0.717391  0.778584  1.0       0.772883\n",
       " 0.593052  0.647331  0.772883  1.0     "
      ]
     },
     "execution_count": 4,
     "metadata": {},
     "output_type": "execute_result"
    }
   ],
   "source": [
    "transpose(mt_portal) * mt_portal"
   ]
  },
  {
   "cell_type": "code",
   "execution_count": 5,
   "metadata": {
    "collapsed": false,
    "scrolled": true
   },
   "outputs": [
    {
     "data": {
      "text/plain": [
       "4x4 DataArrays.DataArray{Float64,2}:\n",
       " 1.0       0.665494  0.68806   0.71363 \n",
       " 0.665494  1.0       0.876491  0.812813\n",
       " 0.68806   0.876491  1.0       0.909476\n",
       " 0.71363   0.812813  0.909476  1.0     "
      ]
     },
     "execution_count": 5,
     "metadata": {},
     "output_type": "execute_result"
    }
   ],
   "source": [
    "transpose(mt_largo) * mt_largo"
   ]
  },
  {
   "cell_type": "markdown",
   "metadata": {},
   "source": [
    "## Vectores gradiente de coordenadas"
   ]
  },
  {
   "cell_type": "code",
   "execution_count": 10,
   "metadata": {
    "collapsed": false
   },
   "outputs": [],
   "source": [
    "out_vec_1 = string(\"/home/german/labo/16/hemo/cavities/ana_cart_gradient/vtores/\", 1,\"_vec_pocket_mtn_corto\")\n",
    "out_vec_2 = string(\"/home/german/labo/16/hemo/cavities/ana_cart_gradient/vtores/\", 3,\"_vec_pocket_mtn_corto\")\n",
    "out_vec_3 = string(\"/home/german/labo/16/hemo/cavities/ana_cart_gradient/vtores/\", 5,\"_vec_pocket_mtn_corto\")\n",
    "out_vec_4 = string(\"/home/german/labo/16/hemo/cavities/ana_cart_gradient/vtores/\", 8,\"_vec_pocket_mtn_corto\")\n",
    "\n",
    "df_vec_pocket_corto_1 = readtable(out_vec_1)\n",
    "df_vec_pocket_corto_3 = readtable(out_vec_2)\n",
    "df_vec_pocket_corto_5 = readtable(out_vec_3)\n",
    "df_vec_pocket_corto_8 = readtable(out_vec_4);\n",
    "\n",
    "mt_corto = [df_vec_pocket_corto_1[:, 1]  df_vec_pocket_corto_3[:, 1] df_vec_pocket_corto_5[:, 1] df_vec_pocket_corto_8[:, 1]]\n",
    "\n",
    "out_vec_1 = string(\"/home/german/labo/16/hemo/cavities/ana_cart_gradient/vtores/\", 1,\"_vec_pocket_mtn_portal\")\n",
    "out_vec_2 = string(\"/home/german/labo/16/hemo/cavities/ana_cart_gradient/vtores/\", 3,\"_vec_pocket_mtn_portal\")\n",
    "out_vec_3 = string(\"/home/german/labo/16/hemo/cavities/ana_cart_gradient/vtores/\", 5,\"_vec_pocket_mtn_portal\")\n",
    "out_vec_4 = string(\"/home/german/labo/16/hemo/cavities/ana_cart_gradient/vtores/\", 8,\"_vec_pocket_mtn_portal\")\n",
    "\n",
    "df_vec_pocket_portal_1 = readtable(out_vec_1)\n",
    "df_vec_pocket_portal_3 = readtable(out_vec_2)\n",
    "df_vec_pocket_portal_5 = readtable(out_vec_3)\n",
    "df_vec_pocket_portal_8 = readtable(out_vec_4);\n",
    "\n",
    "mt_portal = [df_vec_pocket_portal_1[:, 1]  df_vec_pocket_portal_3[:, 1] df_vec_pocket_portal_5[:, 1] df_vec_pocket_portal_8[:, 1]]\n",
    "\n",
    "out_vec_1 = string(\"/home/german/labo/16/hemo/cavities/ana_cart_gradient/vtores/\", 1,\"_vec_pocket_mtn_largo\")\n",
    "out_vec_2 = string(\"/home/german/labo/16/hemo/cavities/ana_cart_gradient/vtores/\", 3,\"_vec_pocket_mtn_largo\")\n",
    "out_vec_3 = string(\"/home/german/labo/16/hemo/cavities/ana_cart_gradient/vtores/\", 5,\"_vec_pocket_mtn_largo\")\n",
    "out_vec_4 = string(\"/home/german/labo/16/hemo/cavities/ana_cart_gradient/vtores/\", 8,\"_vec_pocket_mtn_largo\")\n",
    "\n",
    "df_vec_pocket_largo_1 = readtable(out_vec_1)\n",
    "df_vec_pocket_largo_3 = readtable(out_vec_2)\n",
    "df_vec_pocket_largo_5 = readtable(out_vec_3)\n",
    "df_vec_pocket_largo_8 = readtable(out_vec_4);\n",
    "\n",
    "mt_largo = [df_vec_pocket_largo_1[:, 1]  df_vec_pocket_largo_3[:, 1] df_vec_pocket_largo_5[:, 1] df_vec_pocket_largo_8[:, 1]];"
   ]
  },
  {
   "cell_type": "code",
   "execution_count": 11,
   "metadata": {
    "collapsed": false,
    "scrolled": true
   },
   "outputs": [
    {
     "data": {
      "text/plain": [
       "4x4 DataArrays.DataArray{Float64,2}:\n",
       " 1.0       0.770022  0.695786  0.721078\n",
       " 0.770022  1.0       0.851398  0.851281\n",
       " 0.695786  0.851398  1.0       0.991182\n",
       " 0.721078  0.851281  0.991182  1.0     "
      ]
     },
     "execution_count": 11,
     "metadata": {},
     "output_type": "execute_result"
    }
   ],
   "source": [
    "transpose(mt_corto) * mt_corto"
   ]
  },
  {
   "cell_type": "code",
   "execution_count": 12,
   "metadata": {
    "collapsed": false,
    "scrolled": true
   },
   "outputs": [
    {
     "data": {
      "text/plain": [
       "4x4 DataArrays.DataArray{Float64,2}:\n",
       " 1.0       0.672697  0.541727  0.440693\n",
       " 0.672697  1.0       0.862394  0.732802\n",
       " 0.541727  0.862394  1.0       0.852016\n",
       " 0.440693  0.732802  0.852016  1.0     "
      ]
     },
     "execution_count": 12,
     "metadata": {},
     "output_type": "execute_result"
    }
   ],
   "source": [
    "transpose(mt_portal) * mt_portal"
   ]
  },
  {
   "cell_type": "code",
   "execution_count": 13,
   "metadata": {
    "collapsed": false,
    "scrolled": true
   },
   "outputs": [
    {
     "data": {
      "text/plain": [
       "4x4 DataArrays.DataArray{Float64,2}:\n",
       " 1.0       0.232691  0.705033  0.64126 \n",
       " 0.232691  1.0       0.588252  0.434496\n",
       " 0.705033  0.588252  1.0       0.773498\n",
       " 0.64126   0.434496  0.773498  1.0     "
      ]
     },
     "execution_count": 13,
     "metadata": {},
     "output_type": "execute_result"
    }
   ],
   "source": [
    "transpose(mt_largo) * mt_largo"
   ]
  },
  {
   "cell_type": "markdown",
   "metadata": {
    "collapsed": true
   },
   "source": [
    "## Ahora desplazo las estructuras a lo largo de los vectores gradiente"
   ]
  },
  {
   "cell_type": "code",
   "execution_count": 1,
   "metadata": {
    "collapsed": true
   },
   "outputs": [],
   "source": [
    "# Leo el pdb\n",
    "# Guardo los pdbs desplazados en los gradientes\n",
    "n1 = displaceAA(pdb, vec_pocket_1, 30)\n",
    "write(\"/home/german/labo/16/hemo/cavities/ana_cart_gradient/pymol/mtn_corto_05.pdb\", n1, PDBFile)\n",
    "n2 = displaceAA(pdb, vec_pocket_2, 30)\n",
    "write(\"/home/german/labo/16/hemo/cavities/ana_cart_gradient/pymol/mtn_portal_05.pdb\", n2, PDBFile)\n",
    "n3 = displaceAA(pdb, vec_pocket_3, 30)\n",
    "write(\"/home/german/labo/16/hemo/cavities/ana_cart_gradient/pymol/mtn_largo_05.pdb\", n3, PDBFile)"
   ]
  },
  {
   "cell_type": "code",
   "execution_count": null,
   "metadata": {
    "collapsed": true
   },
   "outputs": [],
   "source": []
  }
 ],
 "metadata": {
  "anaconda-cloud": {},
  "kernelspec": {
   "display_name": "Julia 0.4.6",
   "language": "julia",
   "name": "julia-0.4"
  },
  "language_info": {
   "file_extension": ".jl",
   "mimetype": "application/julia",
   "name": "julia",
   "version": "0.4.6"
  }
 },
 "nbformat": 4,
 "nbformat_minor": 0
}
