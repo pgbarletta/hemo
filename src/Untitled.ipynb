{
 "cells": [
  {
   "cell_type": "code",
   "execution_count": 1,
   "metadata": {
    "collapsed": false
   },
   "outputs": [
    {
     "data": {
      "text/plain": [
       "read_ptraj_modes (generic function with 1 method)"
      ]
     },
     "execution_count": 1,
     "metadata": {},
     "output_type": "execute_result"
    }
   ],
   "source": [
    "function read_ptraj_modes(file, modes_elements)    \n",
    "    modes_file=open(file, \"r\")\n",
    "    modes_text = readdlm(modes_file, skipstart=0, skipblanks=true, \n",
    "    ignore_invalid_chars=true, comments=true, comment_char='\\*')\n",
    "    close(modes_file)\n",
    "\n",
    "    nmodes = modes_text[1, 5]\n",
    "    ncoords = convert(Int64, modes_elements)\n",
    "    lines = ceil(Int64, ncoords/7)\n",
    "    rest = convert(Int64, ncoords % 7)\n",
    "    \n",
    "    eval=Array{Float64}(nmodes);\n",
    "    mode = Array{Float64}(ncoords, nmodes);\n",
    "    temp1=Array{Float64}(ncoords, 1);\n",
    "    temp2 = Array{Float64}(ncoords+(7-rest));\n",
    "\n",
    "    j=lines + 1 + 2 # 1 p/ q lea la prox linea, 2 por el header\n",
    "\n",
    "    for i=1:nmodes\n",
    "        eval[i] = modes_text[j, 2]\n",
    "        temp = transpose(modes_text[(j+1):(lines+j), :])\n",
    "        temp2 = reshape(temp, ncoords+(7-rest))\n",
    "        for k=(rest+1):7\n",
    "            pop!(temp2)\n",
    "        end\n",
    "    mode[:, i] = temp2\n",
    "        j = j + lines + 1\n",
    "    end\n",
    "    \n",
    "    # Normalizo los modos\n",
    "    for i=1:nmodes\n",
    "        mode[: ,i] = mode[:, i] / norm(mode[:, i])\n",
    "    end\n",
    "    \n",
    "    return mode, eval\n",
    "end"
   ]
  },
  {
   "cell_type": "code",
   "execution_count": 2,
   "metadata": {
    "collapsed": true
   },
   "outputs": [],
   "source": [
    "aa3 = 360\n",
    "# Leo los modos de PCA. Ya tienen cortados a los aminoácidos de los extremos. \n",
    "modes_mtn, evals_mtn = read_ptraj_modes(\"/home/german/labo/16/hemo/run/mto/pca/modes_mto\", aa3);"
   ]
  },
  {
   "cell_type": "code",
   "execution_count": 3,
   "metadata": {
    "collapsed": false
   },
   "outputs": [
    {
     "data": {
      "text/plain": [
       "360x354 Array{Float64,2}:\n",
       "  0.0718746    0.053924     0.0705226   …   0.00121295    0.000762434\n",
       " -0.0938459   -0.0370121   -0.201587        6.93114e-5    0.000935714\n",
       " -0.00991135   0.097382    -0.00200998     -0.000103967   0.000935714\n",
       "  0.0678546    0.0630037    0.0598489      -0.0018021    -0.000554497\n",
       " -0.0601612   -0.0219369   -0.116094        0.000658459   0.000554497\n",
       "  0.0137581    0.0541666   -0.00939146  …   0.000415869  -0.0        \n",
       "  0.0627603    0.0613749    0.105905        0.000173279  -0.000346561\n",
       " -0.131724    -0.0269966   -0.158754       -0.00124761   -0.00131693 \n",
       "  0.130164     0.0429035    0.0968949      -0.00103967    0.000554497\n",
       "  0.0252982    0.0959264    0.11592         0.00048518    3.46561e-5 \n",
       " -0.0597107   -0.0543398   -0.158581    …   0.0014902    -0.000762434\n",
       "  0.152482     0.0998425    0.13103         0.00159416    0.000242593\n",
       "  0.0338233    0.128017     0.127045       -0.00103967    0.000311905\n",
       "  ⋮                                     ⋱                            \n",
       " -0.052745     0.027066    -0.0189215       0.00894118    0.0112632  \n",
       "  0.0225951    0.0256451   -0.0173621      -0.000658459  -0.00301508 \n",
       "  0.12254     -0.0111244   -0.101157    …  -0.00776288    0.00225265 \n",
       " -0.0902764    0.0418985    0.0149709      -0.0119909    -0.00402011 \n",
       "  0.0898259    0.0150751   -0.0538883      -0.00713908   -0.00252989 \n",
       "  0.123753    -0.00478246  -0.0986623       0.00214865    6.93122e-5 \n",
       " -0.0737806    0.0162881   -0.0329221       0.0060301     0.00194074 \n",
       "  0.0555174    0.0309127   -0.0120945   …   0.00752029    0.00221799 \n",
       "  0.131481     0.00654989  -0.0690324       0.00415869    0.00214868 \n",
       " -0.0600919   -0.0254025   -0.0964098       0.000658459  -3.46561e-5 \n",
       " -0.0576314    0.0430768   -0.0543734      -0.00121295   -0.000311905\n",
       "  0.330887    -0.0446016   -0.0895828      -0.000589147  -0.000519841"
      ]
     },
     "execution_count": 3,
     "metadata": {},
     "output_type": "execute_result"
    }
   ],
   "source": [
    "modes_mtn"
   ]
  },
  {
   "cell_type": "code",
   "execution_count": null,
   "metadata": {
    "collapsed": true
   },
   "outputs": [],
   "source": []
  }
 ],
 "metadata": {
  "kernelspec": {
   "display_name": "Julia 0.4.2",
   "language": "julia",
   "name": "julia-0.4"
  },
  "language_info": {
   "file_extension": ".jl",
   "mimetype": "application/julia",
   "name": "julia",
   "version": "0.4.5"
  }
 },
 "nbformat": 4,
 "nbformat_minor": 0
}
